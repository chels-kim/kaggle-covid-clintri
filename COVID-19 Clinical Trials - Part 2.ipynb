{
 "cells": [
  {
   "cell_type": "markdown",
   "metadata": {},
   "source": [
    "### Common measure of outcome being used for each study type?\n",
    "What methods do each study types use to measure outcome?\n",
    "\n",
    "### Study results?\n",
    "From CSV file, what results can we find?"
   ]
  },
  {
   "cell_type": "markdown",
   "metadata": {},
   "source": [
    "## 3.2. A deeper dive into COVID-related studies only\n",
    "\n",
    "### Observational studies\n",
    "- length of each study (from CSV)\n",
    "- how is the outcome measured?"
   ]
  },
  {
   "cell_type": "code",
   "execution_count": 1,
   "metadata": {},
   "outputs": [
    {
     "ename": "NameError",
     "evalue": "name 'df_studies' is not defined",
     "output_type": "error",
     "traceback": [
      "\u001b[1;31m---------------------------------------------------------------------------\u001b[0m",
      "\u001b[1;31mNameError\u001b[0m                                 Traceback (most recent call last)",
      "\u001b[1;32m<ipython-input-1-544056a8f40c>\u001b[0m in \u001b[0;36m<module>\u001b[1;34m\u001b[0m\n\u001b[0;32m      1\u001b[0m \u001b[1;31m# from CSV, find out about length of each study and categorize into observational vs. interventional\u001b[0m\u001b[1;33m\u001b[0m\u001b[1;33m\u001b[0m\u001b[1;33m\u001b[0m\u001b[0m\n\u001b[1;32m----> 2\u001b[1;33m df_studies_COVID = df_studies.loc[df_studies['study_topic_code']==1,\n\u001b[0m\u001b[0;32m      3\u001b[0m                                   ['condition','enrollment','id','intervention','title', 'study_topic_code']]\n\u001b[0;32m      4\u001b[0m \u001b[1;31m# df_studies_CSV.columns\u001b[0m\u001b[1;33m\u001b[0m\u001b[1;33m\u001b[0m\u001b[1;33m\u001b[0m\u001b[0m\n\u001b[0;32m      5\u001b[0m \u001b[1;31m# df_studies.columns\u001b[0m\u001b[1;33m\u001b[0m\u001b[1;33m\u001b[0m\u001b[1;33m\u001b[0m\u001b[0m\n",
      "\u001b[1;31mNameError\u001b[0m: name 'df_studies' is not defined"
     ]
    }
   ],
   "source": [
    "# from CSV, find out about length of each study and categorize into observational vs. interventional\n",
    "df_studies_COVID = df_studies.loc[df_studies['study_topic_code']==1,\n",
    "                                  ['condition','enrollment','id','intervention','title', 'study_topic_code']]\n",
    "# df_studies_CSV.columns\n",
    "# df_studies.columns\n",
    "\n",
    "right = df_studies_CSV[['NCT Number','Outcome Measures','Phases',\n",
    "                        'Start Date','Primary Completion Date','Completion Date']]\n",
    "\n",
    "df_COVID_joined = pd.merge(df_studies_COVID, right,\n",
    "                           how=\"inner\", left_on='id',right_on='NCT Number',\n",
    "                           sort=False,suffixes=(\"\",\"_CSV\"),\n",
    "                           validate=\"1:1\")\n",
    "\n",
    "# Define timestamp columns and drop NA values\n",
    "study_dates_names = ['Start Date','Primary Completion Date','Completion Date']\n",
    "df_COVID_joined.dropna(axis=0,subset=study_dates_names,inplace=True)\n",
    "\n",
    "# Take differences between dates to find study durations\n",
    "df_COVID_joined[study_dates_names] = df_COVID_joined[study_dates_names].astype('datetime64')\n",
    "\n",
    "df_COVID_joined['study_duration_primary'] = df_COVID_joined['Primary Completion Date'] - df_COVID_joined['Start Date']\n",
    "df_COVID_joined['study_duration_total'] = df_COVID_joined['Completion Date'] - df_COVID_joined['Start Date']\n",
    "\n",
    "# df_COVID_joined.head()"
   ]
  },
  {
   "cell_type": "code",
   "execution_count": 2,
   "metadata": {},
   "outputs": [
    {
     "ename": "NameError",
     "evalue": "name 'datetime' is not defined",
     "output_type": "error",
     "traceback": [
      "\u001b[1;31m---------------------------------------------------------------------------\u001b[0m",
      "\u001b[1;31mNameError\u001b[0m                                 Traceback (most recent call last)",
      "\u001b[1;32m<ipython-input-2-a11df04c6773>\u001b[0m in \u001b[0;36m<module>\u001b[1;34m\u001b[0m\n\u001b[0;32m      3\u001b[0m \u001b[1;31m# hi = (0,1,2,3)\u001b[0m\u001b[1;33m\u001b[0m\u001b[1;33m\u001b[0m\u001b[1;33m\u001b[0m\u001b[0m\n\u001b[0;32m      4\u001b[0m \u001b[1;31m# hi[not 0]\u001b[0m\u001b[1;33m\u001b[0m\u001b[1;33m\u001b[0m\u001b[1;33m\u001b[0m\u001b[0m\n\u001b[1;32m----> 5\u001b[1;33m \u001b[0mdatetime\u001b[0m\u001b[1;33m.\u001b[0m\u001b[0mdate\u001b[0m\u001b[1;33m(\u001b[0m\u001b[1;36m2020\u001b[0m\u001b[1;33m,\u001b[0m\u001b[1;36m1\u001b[0m\u001b[1;33m,\u001b[0m\u001b[1;36m1\u001b[0m\u001b[1;33m)\u001b[0m\u001b[1;33m.\u001b[0m\u001b[0myear\u001b[0m\u001b[1;33m\u001b[0m\u001b[1;33m\u001b[0m\u001b[0m\n\u001b[0m",
      "\u001b[1;31mNameError\u001b[0m: name 'datetime' is not defined"
     ]
    }
   ],
   "source": [
    "# np.where(pd.DatetimeIndex(study_dates_timestamp['Start Date']).date == pd.to_datetime((2019,2020)[0]))\n",
    "# pd.to_datetime((2019,2020))\n",
    "# hi = (0,1,2,3)\n",
    "# hi[not 0]\n",
    "datetime.date(2020,1,1).year"
   ]
  },
  {
   "cell_type": "code",
   "execution_count": null,
   "metadata": {},
   "outputs": [],
   "source": [
    "# Sort values in terms of Study start dates, oldes to newest\n",
    "study_dates_timestamp = df_COVID_joined[study_dates_names].sort_values(by='Start Date')\n",
    "study_dates_timestamp#.reset_index(drop=True,inplace=True)"
   ]
  },
  {
   "cell_type": "code",
   "execution_count": null,
   "metadata": {},
   "outputs": [],
   "source": [
    "study_dates_timestamp['Start Date'].astype('datetime64[D]')"
   ]
  },
  {
   "cell_type": "code",
   "execution_count": null,
   "metadata": {},
   "outputs": [],
   "source": [
    "def mytimeline(dataframe_orig, startyear_range, endyear = None,\n",
    "               indexercol=0, increment=1, title='', ylabel='', colormap='plasma'):\n",
    "    '''\n",
    "    Plots a timeline for a given dataframe containing timestamp data in its columns.\n",
    "    :param dataframe: pandas DataFrame containing timestamp in its columns.\n",
    "    :param startyear_range: low and high limits of the range of timeline start years to be plotted; array-like of ints of size 2.\n",
    "    :param endyear: higher limit of the time axis. If not provided, will be defined by data; int, default = NaN\n",
    "    :param indexercol: index of column to sort dataframe rows by, and to select a portion of data to be plotted from; int\n",
    "    :param increment: increment by which to increase the years plotted as xticks; default 1.\n",
    "    :param title: title of resulting timeline; default ''\n",
    "    :param colormap: colormap to choose colours from; each column has a different colour.\n",
    "    :return: outputs the timeline plot.\n",
    "    '''\n",
    "\n",
    "    # sort dataframe\n",
    "    colnames = dataframe_orig.columns.to_list()\n",
    "    indexercol_name = colnames[indexercol]\n",
    "    dataframe = dataframe_orig[colnames].sort_values(by=indexercol_name)\n",
    "    dataframe.reset_index(drop=True, inplace=True)\n",
    "    colnames.pop(indexercol)\n",
    "\n",
    "    # Define the time range of study start dates to plot\n",
    "    # To do this, I must first define first and last possible start dates\n",
    "    startdate_first = datetime.date(startyear_range[0], 1, 1)\n",
    "    startdate_last = datetime.date(startyear_range[1], 1, 1)\n",
    "\n",
    "    # Then, compare that date with the indexer column\n",
    "    indStart = np.where(dataframe[indexercol_name] >= datetime.datetime.combine(startdate_first, datetime.datetime.min.time()))[0][0]\n",
    "    indEnd = np.where(dataframe[indexercol_name] <= datetime.datetime.combine(startdate_first, datetime.datetime.min.time()))[0][-1]\n",
    "\n",
    "    # Define dataframe range to be plotted\n",
    "    df_plotted = dataframe.iloc[indStart:indEnd+1]\n",
    "\n",
    "    if endyear is None :\n",
    "        enddate = max(max(dataframe.iloc[indStart:indEnd+1].loc[colnames]))\n",
    "        endyear = enddate.year\n",
    "    # else:\n",
    "    #     enddate = datetime.date(endyear,12,31)\n",
    "\n",
    "    # Plot the studies on a timeline\n",
    "    ax = plt.subplot()\n",
    "\n",
    "    # Set plot colours\n",
    "    colours_list = data_color(4,colormap)\n",
    "    colours_list[:,-1] = 0.7\n",
    "\n",
    "    # draw vertical lines every incremental year\n",
    "    year_incr = [datetime.date( startyear_range[0] + year*increment, 1, 1)\n",
    "                 for year in range(int( (endyear+1-startyear_range[0]) /increment ))]\n",
    "\n",
    "    # Label axes and title\n",
    "    ax.set_xlim(year_incr[0],year_incr[-1])\n",
    "    ax.set_xticks(year_incr)\n",
    "    ax.set_xticklabels([incr.year for incr in year_incr])\n",
    "    ax.set_xlabel('Year')\n",
    "\n",
    "    # ax.set_ylim([0, indEnd-indStart])\n",
    "    ax.set_ylabel(ylabel)\n",
    "    ax.set_title(title)\n",
    "    ax.grid(b=True, axis='both')\n",
    "\n",
    "    for col in reversed(range(len(colnames))):\n",
    "        ax.hlines(y=np.arange(len(df_plotted))[::-1],\n",
    "                  xmin=df_plotted[indexercol_name],\n",
    "                  xmax=df_plotted[colnames[col]],\n",
    "                  colors=colours_list[col],linewidths=2)\n",
    "\n",
    "    ax.legend(colnames)\n",
    "\n",
    "\n",
    "mytimeline(study_dates_timestamp,\n",
    "           startyear_range=[2019, 2021], endyear=None,\n",
    "           title='Timeline of COVID-related studies',\n",
    "           ylabel='Study Number')"
   ]
  },
  {
   "cell_type": "markdown",
   "metadata": {},
   "source": [
    "### Interventional studies\n",
    "- length of each study (also from CSV)\n",
    "- what were some types of interventions used?\n",
    "- in drug studies, what were the top 5 most popular ones studied?\n",
    "\n",
    "### Any meaningful conclusions?\n",
    "- In the small percentage of studies that actually have results posted, were any of them focused on COVID?\n",
    "- If so, can we draw any meaningful conclusions?"
   ]
  }
 ],
 "metadata": {
  "kernelspec": {
   "display_name": "PyCharm (kaggle-covid-clintri)",
   "language": "python",
   "name": "pycharm-72b04c5"
  },
  "language_info": {
   "codemirror_mode": {
    "name": "ipython",
    "version": 3
   },
   "file_extension": ".py",
   "mimetype": "text/x-python",
   "name": "python",
   "nbconvert_exporter": "python",
   "pygments_lexer": "ipython3",
   "version": "3.9.1"
  }
 },
 "nbformat": 4,
 "nbformat_minor": 4
}
