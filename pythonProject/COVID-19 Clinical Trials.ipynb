{
 "cells": [
  {
   "cell_type": "markdown",
   "metadata": {
    "collapsed": true,
    "pycharm": {
     "name": "#%% md\n"
    }
   },
   "source": [
    "# COVID-19 Clinical Trials dataset: an EDA\n",
    "\n",
    "### EDA Plan of Attack\n",
    "1. **High-level understanding of data**\n",
    "    - First, I will take down notes about the data from the Kaggle descriptions\n",
    "    - I might also check out the associated notebook to get a better sense\n",
    "2. **Brainstorm some questions** I would like to ask and analyze the data for.\n",
    "    - I will probably also get inspiration from the aforementioned notebook\n",
    "3. **Learn as I go!** Specifically, my goals for this EDA are:\n",
    "    - get more comfortable working with the basic packages like Numpy and Pandas\n",
    "    - get used to graphing using matplotlib library since that's the most common one\n",
    "\n",
    "### Overall timeline goal\n",
    "- Today is February 25, 2021; I would like to finish this project in maximum 1 week, so March 4th at the latest."
   ]
  },
  {
   "cell_type": "markdown",
   "source": [
    "### Some quick notes on the data\n",
    "\n",
    "- Maintained by the NIH, the database \"ClinicalTrials.gov\" contains information about all privately and publicly funded clinical studies around the world.\n",
    "- The particular dataset to be used consists of clinical trials related to COVID-19 studies specifically.\n",
    "    - XML files: each correspond to one study; filename: `NCT#####` where the `#`'s indicate unique identifier of study.\n",
    "    - 1 CSV file: not as detailed as above but provides a summary."
   ],
   "metadata": {
    "collapsed": false,
    "pycharm": {
     "name": "#%% md\n"
    }
   }
  },
  {
   "cell_type": "markdown",
   "source": [
    "<br>\n",
    "\n",
    "## Higher-level analysis of data"
   ],
   "metadata": {
    "collapsed": false
   }
  },
  {
   "cell_type": "code",
   "execution_count": 2,
   "outputs": [
    {
     "name": "stdout",
     "output_type": "stream",
     "text": [
      "Total clinical trials: 5020\n"
     ]
    }
   ],
   "source": [
    "## Importing relevant modules\n",
    "\n",
    "# libraries\n",
    "import pandas as pd\n",
    "import numpy as np\n",
    "import os\n",
    "from xml.etree import ElementTree\n",
    "\n",
    "# data viz\n",
    "import matplotlib.pyplot as plt\n",
    "import seaborn as sns\n",
    "\n",
    "# Read file data\n",
    "path = '../pythonProject/covid19-clinical-trials-dataset/'\n",
    "xml_path = path + 'COVID-19 CLinical trials studies/COVID-19 CLinical trials studies/'\n",
    "list_of_files = os.listdir(xml_path)\n",
    "print('Total clinical trials:', len(list_of_files))"
   ],
   "metadata": {
    "collapsed": false,
    "pycharm": {
     "name": "#%%\n"
    }
   }
  },
  {
   "cell_type": "code",
   "execution_count": 3,
   "outputs": [],
   "source": [
    "# .xml to pandas dataframe;\n",
    "# for most of this part I will be copying the referencing the original notebook's code because I'm not focused on learning how to do this for now.\n",
    "\n",
    "df_studies = pd.DataFrame()\n",
    "list_keywords = []\n",
    "\n",
    "for file in list_of_files:\n",
    "    file_pathname = xml_path + file\n",
    "\n",
    "    tree = ElementTree.parse(file_pathname)\n",
    "    root = tree.getroot()\n",
    "\n",
    "    # create dictionary to be turned into a df\n",
    "    trial = {}\n",
    "\n",
    "    trial['id'] = root.find('id_info').find('nct_id').text\n",
    "    trial['overall_status'] = root.find('overall_status').text\n",
    "    trial['study_type'] = root.find('study_type').text\n",
    "\n",
    "    if root.find('start_date') != None:\n",
    "        trial['start_date'] = root.find('start_date').text\n",
    "    else:\n",
    "        trial['start_date'] = ''\n",
    "\n",
    "    if root.find('enrollment') != None:\n",
    "        trial['enrollment'] = root.find('enrollment').text\n",
    "    else:\n",
    "        trial['enrollment'] = ''\n",
    "\n",
    "    trial['condition'] = root.find('condition').text.upper().\\\n",
    "        replace('CORONAVIRUS INFECTIONS','CORONAVIRUS INFECTION').\\\n",
    "        replace('CORONA VIRUS INFECTION','CORONAVIRUS INFECTION').\\\n",
    "        replace('SARS-COV-2','SARS-CoV2').\\\n",
    "        replace('SARS-COV 2','SARS-CoV2').\\\n",
    "        replace('SARS-COV2','SARS-CoV2').\\\n",
    "        replace('COVID-19','COVID').\\\n",
    "        replace('COVID19','COVID').\\\n",
    "        replace('COVID 19','COVID')\n",
    "\n",
    "    if root.find('location_countries') != None:\n",
    "        trial['location_countries'] = root.find('location_countries').find('country').text.upper()\n",
    "    else:\n",
    "        trial['location_countries'] = ''\n",
    "\n",
    "    if root.find('intervention') != None:\n",
    "        trial['intervention'] = root.find('intervention').find('intervention_name').text.upper()\n",
    "    else:\n",
    "        trial['intervention'] = ''\n",
    "\n",
    "    for entry in root.findall('keyword'):\n",
    "        list_keywords.append(entry.text)\n",
    "\n",
    "    if root.find('official_title') == None:\n",
    "        trial['title'] = root.find('brief_title').text\n",
    "    else:\n",
    "        trial['title'] = root.find('official_title').text\n",
    "\n",
    "    date_string = root.find('required_header').find('download_date').text\n",
    "    trial['date_processed'] = date_string.replace('ClinicalTrials.gov processed this data on ', '')\n",
    "\n",
    "    trial['sponsors'] = root.find('sponsors').find('lead_sponsor').find('agency').text\n",
    "\n",
    "    df_studies = df_studies.append(trial, ignore_index=True)"
   ],
   "metadata": {
    "collapsed": false,
    "pycharm": {
     "name": "#%%\n"
    }
   }
  },
  {
   "cell_type": "code",
   "execution_count": 4,
   "outputs": [
    {
     "data": {
      "text/plain": "                   condition     date_processed enrollment           id  \\\n0         SOLID TUMOR, ADULT  February 08, 2021       1000  NCT00571389   \n1  HAIRY CELL LEUKEMIA (HCL)  February 08, 2021       1263  NCT01087333   \n2              BREAST CANCER  February 08, 2021        935  NCT01134172   \n3          ANOGENITAL HERPES  February 08, 2021       1000  NCT01306084   \n4            HIV-1 INFECTION  February 08, 2021        334  NCT01435018   \n\n                              intervention location_countries  \\\n0                                               UNITED STATES   \n1                                               UNITED STATES   \n2  SURVEY WEB-BASED OR TELEPHONE INTERVIEW      UNITED STATES   \n3                                               UNITED STATES   \n4                           ETOPOSIDE (ET)             BRAZIL   \n\n           overall_status                                           sponsors  \\\n0              Recruiting                                    BioCytics, Inc.   \n1              Recruiting                    National Cancer Institute (NCI)   \n2  Active, not recruiting             Memorial Sloan Kettering Cancer Center   \n3              Recruiting  National Institute of Allergy and Infectious D...   \n4               Completed                         AIDS Clinical Trials Group   \n\n        start_date      study_type  \\\n0    November 2007   Observational   \n1    March 2, 2010   Observational   \n2         May 2010   Observational   \n3   March 15, 2011   Observational   \n4  October 1, 2013  Interventional   \n\n                                               title  \n0  A Study to Facilitate Development of an Ex-Viv...  \n1  Collection of Human Samples to Study Hairy Cel...  \n2  Breast Cancer and the Workforce: Ethnic Differ...  \n3  Viral Infections in Healthy and Immunocompromi...  \n4  A Randomized Comparison of Three Regimens of C...  ",
      "text/html": "<div>\n<style scoped>\n    .dataframe tbody tr th:only-of-type {\n        vertical-align: middle;\n    }\n\n    .dataframe tbody tr th {\n        vertical-align: top;\n    }\n\n    .dataframe thead th {\n        text-align: right;\n    }\n</style>\n<table border=\"1\" class=\"dataframe\">\n  <thead>\n    <tr style=\"text-align: right;\">\n      <th></th>\n      <th>condition</th>\n      <th>date_processed</th>\n      <th>enrollment</th>\n      <th>id</th>\n      <th>intervention</th>\n      <th>location_countries</th>\n      <th>overall_status</th>\n      <th>sponsors</th>\n      <th>start_date</th>\n      <th>study_type</th>\n      <th>title</th>\n    </tr>\n  </thead>\n  <tbody>\n    <tr>\n      <th>0</th>\n      <td>SOLID TUMOR, ADULT</td>\n      <td>February 08, 2021</td>\n      <td>1000</td>\n      <td>NCT00571389</td>\n      <td></td>\n      <td>UNITED STATES</td>\n      <td>Recruiting</td>\n      <td>BioCytics, Inc.</td>\n      <td>November 2007</td>\n      <td>Observational</td>\n      <td>A Study to Facilitate Development of an Ex-Viv...</td>\n    </tr>\n    <tr>\n      <th>1</th>\n      <td>HAIRY CELL LEUKEMIA (HCL)</td>\n      <td>February 08, 2021</td>\n      <td>1263</td>\n      <td>NCT01087333</td>\n      <td></td>\n      <td>UNITED STATES</td>\n      <td>Recruiting</td>\n      <td>National Cancer Institute (NCI)</td>\n      <td>March 2, 2010</td>\n      <td>Observational</td>\n      <td>Collection of Human Samples to Study Hairy Cel...</td>\n    </tr>\n    <tr>\n      <th>2</th>\n      <td>BREAST CANCER</td>\n      <td>February 08, 2021</td>\n      <td>935</td>\n      <td>NCT01134172</td>\n      <td>SURVEY WEB-BASED OR TELEPHONE INTERVIEW</td>\n      <td>UNITED STATES</td>\n      <td>Active, not recruiting</td>\n      <td>Memorial Sloan Kettering Cancer Center</td>\n      <td>May 2010</td>\n      <td>Observational</td>\n      <td>Breast Cancer and the Workforce: Ethnic Differ...</td>\n    </tr>\n    <tr>\n      <th>3</th>\n      <td>ANOGENITAL HERPES</td>\n      <td>February 08, 2021</td>\n      <td>1000</td>\n      <td>NCT01306084</td>\n      <td></td>\n      <td>UNITED STATES</td>\n      <td>Recruiting</td>\n      <td>National Institute of Allergy and Infectious D...</td>\n      <td>March 15, 2011</td>\n      <td>Observational</td>\n      <td>Viral Infections in Healthy and Immunocompromi...</td>\n    </tr>\n    <tr>\n      <th>4</th>\n      <td>HIV-1 INFECTION</td>\n      <td>February 08, 2021</td>\n      <td>334</td>\n      <td>NCT01435018</td>\n      <td>ETOPOSIDE (ET)</td>\n      <td>BRAZIL</td>\n      <td>Completed</td>\n      <td>AIDS Clinical Trials Group</td>\n      <td>October 1, 2013</td>\n      <td>Interventional</td>\n      <td>A Randomized Comparison of Three Regimens of C...</td>\n    </tr>\n  </tbody>\n</table>\n</div>"
     },
     "execution_count": 4,
     "metadata": {},
     "output_type": "execute_result"
    }
   ],
   "source": [
    "# print the first few rows of studies dataframe and describe it\n",
    "df_studies.head()"
   ],
   "metadata": {
    "collapsed": false,
    "pycharm": {
     "name": "#%%\n"
    }
   }
  },
  {
   "cell_type": "code",
   "execution_count": 5,
   "outputs": [
    {
     "data": {
      "text/plain": "       condition     date_processed enrollment           id intervention  \\\ncount       5020               5020       5020         5020         5020   \nunique      1140                  1        838         5020         3183   \ntop        COVID  February 08, 2021        100  NCT04341389                \nfreq        2374               5020        309            1          761   \n\n       location_countries overall_status  \\\ncount                5020           5020   \nunique                113             11   \ntop         UNITED STATES     Recruiting   \nfreq                 1085           2505   \n\n                                       sponsors   start_date      study_type  \\\ncount                                      5020         5020            5020   \nunique                                     2194          560               4   \ntop     Assistance Publique - Hôpitaux de Paris  May 1, 2020  Interventional   \nfreq                                         91          107            2892   \n\n                                                    title  \ncount                                                5020  \nunique                                               5005  \ntop     COVID-19 Outpatient Pragmatic Platform Study (...  \nfreq                                                    3  ",
      "text/html": "<div>\n<style scoped>\n    .dataframe tbody tr th:only-of-type {\n        vertical-align: middle;\n    }\n\n    .dataframe tbody tr th {\n        vertical-align: top;\n    }\n\n    .dataframe thead th {\n        text-align: right;\n    }\n</style>\n<table border=\"1\" class=\"dataframe\">\n  <thead>\n    <tr style=\"text-align: right;\">\n      <th></th>\n      <th>condition</th>\n      <th>date_processed</th>\n      <th>enrollment</th>\n      <th>id</th>\n      <th>intervention</th>\n      <th>location_countries</th>\n      <th>overall_status</th>\n      <th>sponsors</th>\n      <th>start_date</th>\n      <th>study_type</th>\n      <th>title</th>\n    </tr>\n  </thead>\n  <tbody>\n    <tr>\n      <th>count</th>\n      <td>5020</td>\n      <td>5020</td>\n      <td>5020</td>\n      <td>5020</td>\n      <td>5020</td>\n      <td>5020</td>\n      <td>5020</td>\n      <td>5020</td>\n      <td>5020</td>\n      <td>5020</td>\n      <td>5020</td>\n    </tr>\n    <tr>\n      <th>unique</th>\n      <td>1140</td>\n      <td>1</td>\n      <td>838</td>\n      <td>5020</td>\n      <td>3183</td>\n      <td>113</td>\n      <td>11</td>\n      <td>2194</td>\n      <td>560</td>\n      <td>4</td>\n      <td>5005</td>\n    </tr>\n    <tr>\n      <th>top</th>\n      <td>COVID</td>\n      <td>February 08, 2021</td>\n      <td>100</td>\n      <td>NCT04341389</td>\n      <td></td>\n      <td>UNITED STATES</td>\n      <td>Recruiting</td>\n      <td>Assistance Publique - Hôpitaux de Paris</td>\n      <td>May 1, 2020</td>\n      <td>Interventional</td>\n      <td>COVID-19 Outpatient Pragmatic Platform Study (...</td>\n    </tr>\n    <tr>\n      <th>freq</th>\n      <td>2374</td>\n      <td>5020</td>\n      <td>309</td>\n      <td>1</td>\n      <td>761</td>\n      <td>1085</td>\n      <td>2505</td>\n      <td>91</td>\n      <td>107</td>\n      <td>2892</td>\n      <td>3</td>\n    </tr>\n  </tbody>\n</table>\n</div>"
     },
     "execution_count": 5,
     "metadata": {},
     "output_type": "execute_result"
    }
   ],
   "source": [
    "df_studies.describe()\n"
   ],
   "metadata": {
    "collapsed": false,
    "pycharm": {
     "name": "#%%\n"
    }
   }
  },
  {
   "cell_type": "code",
   "execution_count": 6,
   "outputs": [
    {
     "name": "stdout",
     "output_type": "stream",
     "text": [
      "     condition     date_processed enrollment           id intervention  \\\n",
      "4434     COVID  February 08, 2021        120  NCT04662060  ACEBILUSTAT   \n",
      "4435     COVID  February 08, 2021        120  NCT04662073     CAMOSTAT   \n",
      "4436     COVID  February 08, 2021        240  NCT04662086  ACEBILUSTAT   \n",
      "\n",
      "     location_countries      overall_status             sponsors  start_date  \\\n",
      "4434      UNITED STATES  Not yet recruiting  Stanford University  March 2021   \n",
      "4435      UNITED STATES  Not yet recruiting  Stanford University  March 2021   \n",
      "4436      UNITED STATES  Not yet recruiting  Stanford University  March 2021   \n",
      "\n",
      "          study_type                                              title  \n",
      "4434  Interventional  COVID-19 Outpatient Pragmatic Platform Study (...  \n",
      "4435  Interventional  COVID-19 Outpatient Pragmatic Platform Study (...  \n",
      "4436  Interventional  COVID-19 Outpatient Pragmatic Platform Study (...  \n"
     ]
    }
   ],
   "source": [
    "# FOR LATER ON: Some study names are repeated in the dataset. Why?\n",
    "print(df_studies[df_studies['title'] == df_studies.describe().iloc[2]['title']])"
   ],
   "metadata": {
    "collapsed": false,
    "pycharm": {
     "name": "#%%\n"
    }
   }
  },
  {
   "cell_type": "code",
   "execution_count": 7,
   "outputs": [
    {
     "data": {
      "text/plain": "   Rank   NCT Number                                              Title  \\\n0     1  NCT04595136  Study to Evaluate the Efficacy of COVID19-0001...   \n1     2  NCT04395482  Lung CT Scan Analysis of SARS-CoV2 Induced Lun...   \n2     3  NCT04416061  The Role of a Private Hospital in Hong Kong Am...   \n3     4  NCT04395924         Maternal-foetal Transmission of SARS-Cov-2   \n4     5  NCT04516954          Convalescent Plasma for COVID-19 Patients   \n\n        Acronym                   Status         Study Results  \\\n0      COVID-19       Not yet recruiting  No Results Available   \n1   TAC-COVID19               Recruiting  No Results Available   \n2      COVID-19   Active, not recruiting  No Results Available   \n3  TMF-COVID-19               Recruiting  No Results Available   \n4          CPCP  Enrolling by invitation  No Results Available   \n\n                                          Conditions  \\\n0                               SARS-CoV-2 Infection   \n1                                            covid19   \n2                                              COVID   \n3  Maternal Fetal Infection Transmission|COVID-19...   \n4                                           COVID 19   \n\n                                       Interventions  \\\n0    Drug: Drug COVID19-0001-USR|Drug: normal saline   \n1  Other: Lung CT scan analysis in COVID-19 patients   \n2          Diagnostic Test: COVID 19 Diagnostic Test   \n3  Diagnostic Test: Diagnosis of SARS-Cov2 by RT-...   \n4           Biological: Convalescent COVID 19 Plasma   \n\n                                    Outcome Measures  \\\n0  Change on viral load results from baseline aft...   \n1  A qualitative analysis of parenchymal lung dam...   \n2  Proportion of asymptomatic subjects|Proportion...   \n3  COVID-19 by positive PCR in cord blood and / o...   \n4  Evaluate the safety|Change in requirement for ...   \n\n                               Sponsor/Collaborators  ...         Other IDs  \\\n0                         United Medical Specialties  ...  COVID19-0001-USR   \n1                       University of Milano Bicocca  ...       TAC-COVID19   \n2                    Hong Kong Sanatorium & Hospital  ...        RC-2020-08   \n3  Centre Hospitalier Régional d'Orléans|Centre d...  ...      CHRO-2020-10   \n4  Vinmec Research Institute of Stem Cell and Gen...  ...       ISC.20.11.1   \n\n         Start Date Primary Completion Date    Completion Date  \\\n0  November 2, 2020       December 15, 2020   January 29, 2021   \n1       May 7, 2020           June 15, 2021      June 15, 2021   \n2      May 25, 2020           July 31, 2020    August 31, 2020   \n3       May 5, 2020                May 2021           May 2021   \n4    August 1, 2020       November 30, 2020  December 30, 2020   \n\n       First Posted Results First Posted Last Update Posted  \\\n0  October 20, 2020                  NaN   October 20, 2020   \n1      May 20, 2020                  NaN   November 9, 2020   \n2      June 4, 2020                  NaN       June 4, 2020   \n3      May 20, 2020                  NaN       June 4, 2020   \n4   August 18, 2020                  NaN    August 20, 2020   \n\n                                           Locations Study Documents  \\\n0       Cimedical, Barranquilla, Atlantico, Colombia             NaN   \n1  Ospedale Papa Giovanni XXIII, Bergamo, Italy|P...             NaN   \n2  Hong Kong Sanatorium & Hospital, Hong Kong, Ho...             NaN   \n3                       CHR Orléans, Orléans, France             NaN   \n4  Vinmec Research Institute of Stem cell and Gen...             NaN   \n\n                                           URL  \n0  https://ClinicalTrials.gov/show/NCT04595136  \n1  https://ClinicalTrials.gov/show/NCT04395482  \n2  https://ClinicalTrials.gov/show/NCT04416061  \n3  https://ClinicalTrials.gov/show/NCT04395924  \n4  https://ClinicalTrials.gov/show/NCT04516954  \n\n[5 rows x 27 columns]",
      "text/html": "<div>\n<style scoped>\n    .dataframe tbody tr th:only-of-type {\n        vertical-align: middle;\n    }\n\n    .dataframe tbody tr th {\n        vertical-align: top;\n    }\n\n    .dataframe thead th {\n        text-align: right;\n    }\n</style>\n<table border=\"1\" class=\"dataframe\">\n  <thead>\n    <tr style=\"text-align: right;\">\n      <th></th>\n      <th>Rank</th>\n      <th>NCT Number</th>\n      <th>Title</th>\n      <th>Acronym</th>\n      <th>Status</th>\n      <th>Study Results</th>\n      <th>Conditions</th>\n      <th>Interventions</th>\n      <th>Outcome Measures</th>\n      <th>Sponsor/Collaborators</th>\n      <th>...</th>\n      <th>Other IDs</th>\n      <th>Start Date</th>\n      <th>Primary Completion Date</th>\n      <th>Completion Date</th>\n      <th>First Posted</th>\n      <th>Results First Posted</th>\n      <th>Last Update Posted</th>\n      <th>Locations</th>\n      <th>Study Documents</th>\n      <th>URL</th>\n    </tr>\n  </thead>\n  <tbody>\n    <tr>\n      <th>0</th>\n      <td>1</td>\n      <td>NCT04595136</td>\n      <td>Study to Evaluate the Efficacy of COVID19-0001...</td>\n      <td>COVID-19</td>\n      <td>Not yet recruiting</td>\n      <td>No Results Available</td>\n      <td>SARS-CoV-2 Infection</td>\n      <td>Drug: Drug COVID19-0001-USR|Drug: normal saline</td>\n      <td>Change on viral load results from baseline aft...</td>\n      <td>United Medical Specialties</td>\n      <td>...</td>\n      <td>COVID19-0001-USR</td>\n      <td>November 2, 2020</td>\n      <td>December 15, 2020</td>\n      <td>January 29, 2021</td>\n      <td>October 20, 2020</td>\n      <td>NaN</td>\n      <td>October 20, 2020</td>\n      <td>Cimedical, Barranquilla, Atlantico, Colombia</td>\n      <td>NaN</td>\n      <td>https://ClinicalTrials.gov/show/NCT04595136</td>\n    </tr>\n    <tr>\n      <th>1</th>\n      <td>2</td>\n      <td>NCT04395482</td>\n      <td>Lung CT Scan Analysis of SARS-CoV2 Induced Lun...</td>\n      <td>TAC-COVID19</td>\n      <td>Recruiting</td>\n      <td>No Results Available</td>\n      <td>covid19</td>\n      <td>Other: Lung CT scan analysis in COVID-19 patients</td>\n      <td>A qualitative analysis of parenchymal lung dam...</td>\n      <td>University of Milano Bicocca</td>\n      <td>...</td>\n      <td>TAC-COVID19</td>\n      <td>May 7, 2020</td>\n      <td>June 15, 2021</td>\n      <td>June 15, 2021</td>\n      <td>May 20, 2020</td>\n      <td>NaN</td>\n      <td>November 9, 2020</td>\n      <td>Ospedale Papa Giovanni XXIII, Bergamo, Italy|P...</td>\n      <td>NaN</td>\n      <td>https://ClinicalTrials.gov/show/NCT04395482</td>\n    </tr>\n    <tr>\n      <th>2</th>\n      <td>3</td>\n      <td>NCT04416061</td>\n      <td>The Role of a Private Hospital in Hong Kong Am...</td>\n      <td>COVID-19</td>\n      <td>Active, not recruiting</td>\n      <td>No Results Available</td>\n      <td>COVID</td>\n      <td>Diagnostic Test: COVID 19 Diagnostic Test</td>\n      <td>Proportion of asymptomatic subjects|Proportion...</td>\n      <td>Hong Kong Sanatorium &amp; Hospital</td>\n      <td>...</td>\n      <td>RC-2020-08</td>\n      <td>May 25, 2020</td>\n      <td>July 31, 2020</td>\n      <td>August 31, 2020</td>\n      <td>June 4, 2020</td>\n      <td>NaN</td>\n      <td>June 4, 2020</td>\n      <td>Hong Kong Sanatorium &amp; Hospital, Hong Kong, Ho...</td>\n      <td>NaN</td>\n      <td>https://ClinicalTrials.gov/show/NCT04416061</td>\n    </tr>\n    <tr>\n      <th>3</th>\n      <td>4</td>\n      <td>NCT04395924</td>\n      <td>Maternal-foetal Transmission of SARS-Cov-2</td>\n      <td>TMF-COVID-19</td>\n      <td>Recruiting</td>\n      <td>No Results Available</td>\n      <td>Maternal Fetal Infection Transmission|COVID-19...</td>\n      <td>Diagnostic Test: Diagnosis of SARS-Cov2 by RT-...</td>\n      <td>COVID-19 by positive PCR in cord blood and / o...</td>\n      <td>Centre Hospitalier Régional d'Orléans|Centre d...</td>\n      <td>...</td>\n      <td>CHRO-2020-10</td>\n      <td>May 5, 2020</td>\n      <td>May 2021</td>\n      <td>May 2021</td>\n      <td>May 20, 2020</td>\n      <td>NaN</td>\n      <td>June 4, 2020</td>\n      <td>CHR Orléans, Orléans, France</td>\n      <td>NaN</td>\n      <td>https://ClinicalTrials.gov/show/NCT04395924</td>\n    </tr>\n    <tr>\n      <th>4</th>\n      <td>5</td>\n      <td>NCT04516954</td>\n      <td>Convalescent Plasma for COVID-19 Patients</td>\n      <td>CPCP</td>\n      <td>Enrolling by invitation</td>\n      <td>No Results Available</td>\n      <td>COVID 19</td>\n      <td>Biological: Convalescent COVID 19 Plasma</td>\n      <td>Evaluate the safety|Change in requirement for ...</td>\n      <td>Vinmec Research Institute of Stem Cell and Gen...</td>\n      <td>...</td>\n      <td>ISC.20.11.1</td>\n      <td>August 1, 2020</td>\n      <td>November 30, 2020</td>\n      <td>December 30, 2020</td>\n      <td>August 18, 2020</td>\n      <td>NaN</td>\n      <td>August 20, 2020</td>\n      <td>Vinmec Research Institute of Stem cell and Gen...</td>\n      <td>NaN</td>\n      <td>https://ClinicalTrials.gov/show/NCT04516954</td>\n    </tr>\n  </tbody>\n</table>\n<p>5 rows × 27 columns</p>\n</div>"
     },
     "execution_count": 7,
     "metadata": {},
     "output_type": "execute_result"
    }
   ],
   "source": [
    "# Load the CSV file as well\n",
    "df_studies_CSV = pd.read_csv( path + 'COVID clinical trials.csv')\n",
    "df_studies_CSV.head()"
   ],
   "metadata": {
    "collapsed": false,
    "pycharm": {
     "name": "#%%\n"
    }
   }
  },
  {
   "cell_type": "code",
   "execution_count": 8,
   "outputs": [
    {
     "name": "stdout",
     "output_type": "stream",
     "text": [
      "['condition', 'date_processed', 'enrollment', 'id', 'intervention', 'location_countries', 'overall_status', 'sponsors', 'start_date', 'study_type', 'title']\n",
      "['Rank', 'NCT Number', 'Title', 'Acronym', 'Status', 'Study Results', 'Conditions', 'Interventions', 'Outcome Measures', 'Sponsor/Collaborators', 'Gender', 'Age', 'Phases', 'Enrollment', 'Funded Bys', 'Study Type', 'Study Designs', 'Other IDs', 'Start Date', 'Primary Completion Date', 'Completion Date', 'First Posted', 'Results First Posted', 'Last Update Posted', 'Locations', 'Study Documents', 'URL']\n"
     ]
    }
   ],
   "source": [
    "# What's in the CSV that's not listed in the XML data? Or at least lost in translation to dfs?\n",
    "print(list(df_studies.columns))\n",
    "print(list(df_studies_CSV.columns))"
   ],
   "metadata": {
    "collapsed": false,
    "pycharm": {
     "name": "#%%\n"
    }
   }
  },
  {
   "cell_type": "markdown",
   "source": [
    "Oddly enough, the raw CSV file seems to contain more information than the processed version of the XML file, whereas the\n",
    "CSV file was supposed to be the more condensed version of it. I guess the original notebook poster was trying to extract\n",
    "only the most pertinent information from xml to dataframe."
   ],
   "metadata": {
    "collapsed": false,
    "pycharm": {
     "name": "#%% md\n"
    }
   }
  },
  {
   "cell_type": "markdown",
   "source": [
    "<br>\n",
    "\n",
    "## Brainstorming questions I'd like to ask\n",
    "\n",
    "To start the EDA, let's look at a few of the columns in `df_studies` (i.e. the one that's been summarized better) in\n",
    "more detail!"
   ],
   "metadata": {
    "collapsed": false,
    "pycharm": {
     "name": "#%% md\n"
    }
   }
  },
  {
   "cell_type": "code",
   "execution_count": 9,
   "outputs": [
    {
     "name": "stdout",
     "output_type": "stream",
     "text": [
      "['condition', 'date_processed', 'enrollment', 'id', 'intervention', 'location_countries', 'overall_status', 'sponsors', 'start_date', 'study_type', 'title']\n"
     ]
    }
   ],
   "source": [
    "list_dfColumns = list(df_studies.columns)\n",
    "print(list_dfColumns)"
   ],
   "metadata": {
    "collapsed": false,
    "pycharm": {
     "name": "#%%\n"
    }
   }
  },
  {
   "cell_type": "markdown",
   "source": [
    "Some questions I would like to ask throughout this analysis:\n",
    "\n",
    "1. Regarding the entire dataset:\n",
    "    - What are the conditions (COVID- and non-COVID-related) that are being studied?\n",
    "    - What status is each study in?\n",
    "    - In which countries do studies take place? Which of those are COVID-related ones?\n",
    "    - What are the study types used? Do COVID-related studies differ from the rest?\n",
    "        - What's the distribution of enrollment sizes for study types?\n",
    "    - From the CSV file column description in original dataset post, there is a very small number of studies with results\n",
    "    available (1%). What percentage is this of the actual studies that have already been completed?\n",
    "\n",
    "2. In COVID-related studies:\n",
    "    - Study titles:\n",
    "        - Why are some titles repeated?\n",
    "        - What are the common keywords in the title?\n",
    "            - What can we learn from those titles?\n",
    "    - Specific to **observational studies**:\n",
    "        - length of each study (from CSV)\n",
    "        - how is the outcome measured?\n",
    "    - Specific to **interventional studies**:\n",
    "        - length of each study (also from CSV)\n",
    "        - what were some types of interventions used?\n",
    "        - in drug studies, what were the top 5 most popular ones studied?\n",
    "    - In the small percentage of studies that actually have results posted, were any of them focused on COVID?\n",
    "        - If so, can we draw any meaningful conclusions?"
   ],
   "metadata": {
    "collapsed": false,
    "pycharm": {
     "name": "#%% md\n"
    }
   }
  },
  {
   "cell_type": "markdown",
   "source": [
    "<br>\n",
    "\n",
    "## Exploratory analysis\n",
    "\n",
    "### Comparison of COVID- and non-COVID-related studies\n",
    "\n",
    "#### Conditions being studied\n",
    "First, I ask what conditions (COVID- and non-COVID-related) are being studied."
   ],
   "metadata": {
    "collapsed": false,
    "pycharm": {
     "name": "#%% md\n"
    }
   }
  },
  {
   "cell_type": "code",
   "execution_count": 25,
   "outputs": [],
   "source": [
    "# Use a pie chart: must count incidences of each type\n",
    "condition_counts = df_studies.condition.value_counts()\n",
    "conditions_list = list(condition_counts.index)\n",
    "covid_keys = [\n",
    "    'covid', 'coronavirus', 'sars-cov2', '2019-ncov', 'severe acute respiratory syndrome coronavirus 2',\n",
    "]\n",
    "resp_keys = [\n",
    "    'severe acute respiratory syndrome', 'sars', 'respiratory', 'pneumonia', 'cold', 'flu'\n",
    "]\n",
    "\n",
    "df_studies['study_topic'] = ['']*len(df_studies.condition)\n",
    "\n",
    "# TODO: This part may need to be modified if the study titles are more accurate indicators of topic (esp. for non-cov, resp ones)\n",
    "for cond in conditions_list:\n",
    "    # from the condition chosen, parse for any of the keys string\n",
    "    if any(key in cond.lower() for key in covid_keys): # condition met as being covid-related:\n",
    "        # c.append(cond)\n",
    "        label = 'COVID-related' #label as covid-related\n",
    "    elif any(key in cond.lower() for key in resp_keys): # condition met as being non-covid but still SARS or other respiratory:\n",
    "        label = 'Non-COVID-related, Respiratory' #label as non-covid-related respiratory\n",
    "    else:\n",
    "        label = 'Non-COVID-related' # label as not related\n",
    "    df_studies['study_topic'].loc[df_studies.condition == cond] = label"
   ],
   "metadata": {
    "collapsed": false,
    "pycharm": {
     "name": "#%%\n"
    }
   }
  },
  {
   "cell_type": "code",
   "execution_count": 29,
   "outputs": [
    {
     "name": "stdout",
     "output_type": "stream",
     "text": [
      "COVID-related                     3427\n",
      "Non-COVID-related                 1341\n",
      "Non-COVID-related, Respiratory     252\n",
      "Name: study_topic, dtype: int64\n"
     ]
    }
   ],
   "source": [
    "df_studies[['condition','study_topic']].describe()\n",
    "condition_detailed_counts = df_studies.study_topic.value_counts()\n",
    "print(condition_detailed_counts)"
   ],
   "metadata": {
    "collapsed": false,
    "pycharm": {
     "name": "#%%\n"
    }
   }
  },
  {
   "cell_type": "code",
   "execution_count": 50,
   "outputs": [
    {
     "name": "stdout",
     "output_type": "stream",
     "text": [
      "  agg_filter: a filter function, which takes a (m, n, 3) float array and a dpi value, and returns a (m, n, 3) array\n",
      "  alpha: float or None\n",
      "  animated: bool\n",
      "  backgroundcolor: color\n",
      "  bbox: dict with properties for `.patches.FancyBboxPatch`\n",
      "  clip_box: `.Bbox`\n",
      "  clip_on: bool\n",
      "  clip_path: Patch or (Path, Transform) or None\n",
      "  color or c: color\n",
      "  contains: unknown\n",
      "  figure: `.Figure`\n",
      "  fontfamily or family: {FONTNAME, 'serif', 'sans-serif', 'cursive', 'fantasy', 'monospace'}\n",
      "  fontproperties or font or font_properties: `.font_manager.FontProperties` or `str` or `pathlib.Path`\n",
      "  fontsize or size: float or {'xx-small', 'x-small', 'small', 'medium', 'large', 'x-large', 'xx-large'}\n",
      "  fontstretch or stretch: {a numeric value in range 0-1000, 'ultra-condensed', 'extra-condensed', 'condensed', 'semi-condensed', 'normal', 'semi-expanded', 'expanded', 'extra-expanded', 'ultra-expanded'}\n",
      "  fontstyle or style: {'normal', 'italic', 'oblique'}\n",
      "  fontvariant or variant: {'normal', 'small-caps'}\n",
      "  fontweight or weight: {a numeric value in range 0-1000, 'ultralight', 'light', 'normal', 'regular', 'book', 'medium', 'roman', 'semibold', 'demibold', 'demi', 'bold', 'heavy', 'extra bold', 'black'}\n",
      "  gid: str\n",
      "  horizontalalignment or ha: {'center', 'right', 'left'}\n",
      "  in_layout: bool\n",
      "  label: object\n",
      "  linespacing: float (multiple of font size)\n",
      "  multialignment or ma: {'left', 'right', 'center'}\n",
      "  path_effects: `.AbstractPathEffect`\n",
      "  picker: None or bool or callable\n",
      "  position: (float, float)\n",
      "  rasterized: bool or None\n",
      "  rotation: float or {'vertical', 'horizontal'}\n",
      "  rotation_mode: {None, 'default', 'anchor'}\n",
      "  sketch_params: (scale: float, length: float, randomness: float)\n",
      "  snap: bool or None\n",
      "  text: object\n",
      "  transform: `.Transform`\n",
      "  url: str\n",
      "  usetex: bool or None\n",
      "  verticalalignment or va: {'center', 'top', 'bottom', 'baseline', 'center_baseline'}\n",
      "  visible: bool\n",
      "  wrap: bool\n",
      "  x: float\n",
      "  y: float\n",
      "  zorder: float\n"
     ]
    },
    {
     "data": {
      "text/plain": "Text(0.5, 1.0, 'What types of conditions were studied?')"
     },
     "execution_count": 50,
     "metadata": {},
     "output_type": "execute_result"
    },
    {
     "data": {
      "text/plain": "<Figure size 432x288 with 1 Axes>",
      "image/png": "[encoded data removed]"
     },
     "metadata": {},
     "output_type": "display_data"
    }
   ],
   "source": [
    "# Create figure!\n",
    "\n",
    "values = condition_detailed_counts.to_numpy()\n",
    "labels = condition_detailed_counts.keys().to_numpy()\n",
    "# print(values, labels)\n",
    "\n",
    "def pctvalue(pct, data):\n",
    "    counts = int(pct/100 * np.sum(data))\n",
    "    return \"{:.1f}%\\n({:d} studies)\".format(pct, counts)\n",
    "\n",
    "fig, ax = plt.subplots(subplot_kw=dict(aspect='equal'))\n",
    "wedges, texts, autotexts = ax.pie(values,\n",
    "                       textprops=dict(color=\"w\"),\n",
    "                       autopct=lambda pct: pctvalue(pct,values))\n",
    "\n",
    "ax.legend(wedges, labels,\n",
    "          title=\"Study types\",\n",
    "          loc=\"center\",\n",
    "          bbox_to_anchor=(0,-0.1,1,-0.1)\n",
    "          )\n",
    "\n",
    "plt.setp(autotexts)\n",
    "\n",
    "ax.set_title(\"What types of conditions were studied?\")\n",
    "\n",
    "\n",
    "# BONUS TODO: Make the plot interactive using plotly and enable display of all the raw condition names as listed in the datset"
   ],
   "metadata": {
    "collapsed": false,
    "pycharm": {
     "name": "#%%\n"
    }
   }
  },
  {
   "cell_type": "markdown",
   "source": [
    "#### Study status\n",
    "Let's visualize what status each of these clinical studies are in.\n",
    "\n",
    "#### Countries of study\n",
    "In which countries do studies take place? Which of those are COVID-related ones?\n",
    "\n",
    "#### Study type: Popular study types depending on condition being studied\n",
    "What are the study types used? Do COVID-related studies differ from the rest?\n",
    "\n",
    "#### Enrollment sizes (per study type and per condition)\n",
    "What's the distribution of enrollment sizes across studies?\n",
    "\n",
    "#### Common measure of outcome being used for each study type?\n",
    "What methods do each study types use to measure outcome?\n",
    "\n",
    "#### Study results?\n",
    "From CSV file, what results can we find?"
   ],
   "metadata": {
    "collapsed": false,
    "pycharm": {
     "name": "#%% md\n"
    }
   }
  }
 ],
 "metadata": {
  "kernelspec": {
   "display_name": "Python 3",
   "language": "python",
   "name": "python3"
  },
  "language_info": {
   "codemirror_mode": {
    "name": "ipython",
    "version": 2
   },
   "file_extension": ".py",
   "mimetype": "text/x-python",
   "name": "python",
   "nbconvert_exporter": "python",
   "pygments_lexer": "ipython2",
   "version": "2.7.6"
  }
 },
 "nbformat": 4,
 "nbformat_minor": 0
}