{
 "cells": [
  {
   "cell_type": "markdown",
   "metadata": {
    "collapsed": true,
    "pycharm": {
     "name": "#%% md\n"
    }
   },
   "source": [
    "# COVID-19 Clinical Trials dataset: an EDA\n",
    "\n",
    "## EDA Plan of Attack\n",
    "1. **High-level understanding of data**\n",
    "    - First, I will take down notes about the data from the Kaggle descriptions\n",
    "    - I might also check out the associated notebook to get a better sense\n",
    "2. **Brainstorm some questions** I would like to ask and analyze the data for.\n",
    "    - I will probably also get inspiration from the aforementioned notebook\n",
    "3. **Learn as I go!** Specifically, my goals for this EDA are:\n",
    "    - get more comfortable working with the basic packages like Numpy and Pandas\n",
    "    - get used to graphing using matplotlib library since that's the most common one\n",
    "\n",
    "### Overall timeline goal\n",
    "- Today is February 25, 2021; I would like to finish this project in maximum 1 week, so March 4th at the latest."
   ]
  },
  {
   "cell_type": "markdown",
   "source": [
    "### Some quick notes on the data\n",
    "\n",
    "- Maintained by the NIH, the database at [ClinicalTrials.gov](ClinicalTrials.gov) contains information about all privately and publicly funded clinical studies around the world.\n",
    "- The particular dataset to be used consists of clinical trials related to COVID-19 studies specifically.\n",
    "    - XML files: each correspond to one study; filename: `NCT########`, where the `#`'s indicate unique numerical identifiers\n",
    "     of studies.\n",
    "    - 1 CSV file: not as detailed as above but provides a summary."
   ],
   "metadata": {
    "collapsed": false,
    "pycharm": {
     "name": "#%% md\n"
    }
   }
  },
  {
   "cell_type": "markdown",
   "source": [
    "<br>\n",
    "\n",
    "## Higher-level analysis of data"
   ],
   "metadata": {
    "collapsed": false
   }
  },
  {
   "cell_type": "code",
   "execution_count": 1,
   "outputs": [
    {
     "name": "stdout",
     "output_type": "stream",
     "text": [
      "Total clinical trials: 5020\n"
     ]
    }
   ],
   "source": [
    "## Importing relevant modules\n",
    "\n",
    "# libraries\n",
    "import pandas as pd\n",
    "import numpy as np\n",
    "import os\n",
    "from xml.etree import ElementTree\n",
    "\n",
    "# data viz\n",
    "import matplotlib.pyplot as plt\n",
    "import seaborn as sns\n",
    "\n",
    "# Read file data\n",
    "path = '../kaggle-covid-clintri/'\n",
    "xml_path = path + 'covid19-clinical-trials-dataset/COVID-19 CLinical trials studies/COVID-19 CLinical trials studies/'\n",
    "list_of_files = os.listdir(xml_path)\n",
    "print('Total clinical trials:', len(list_of_files))"
   ],
   "metadata": {
    "collapsed": false,
    "pycharm": {
     "name": "#%%\n"
    }
   }
  },
  {
   "cell_type": "code",
   "execution_count": 2,
   "outputs": [],
   "source": [
    "# .xml files to pandas dataframe, and save as .csv for future use.\n",
    "# If already existing, load file\n",
    "\n",
    "df_studies_pathname = '../kaggle-covid-clintri/studies_summarized.csv'\n",
    "\n",
    "if os.path.isfile(df_studies_pathname):\n",
    "    # If already saved, load the csv file\n",
    "    df_studies = pd.read_csv('../kaggle-covid-clintri/studies_summarized.csv')\n",
    "\n",
    "else:\n",
    "    # .xml to pandas dataframe;\n",
    "    # for most of this part I will be copying the referencing the original notebook's code because I'm not focused on learning how to do this for now.\n",
    "\n",
    "    df_studies = pd.DataFrame()\n",
    "    list_keywords = []\n",
    "\n",
    "    for file in list_of_files:\n",
    "        file_pathname = xml_path + file\n",
    "\n",
    "        tree = ElementTree.parse(file_pathname)\n",
    "        root = tree.getroot()\n",
    "\n",
    "        # create dictionary to be turned into a df\n",
    "        trial = {}\n",
    "\n",
    "        trial['id'] = root.find('id_info').find('nct_id').text\n",
    "        trial['overall_status'] = root.find('overall_status').text\n",
    "        trial['study_type'] = root.find('study_type').text\n",
    "\n",
    "        if root.find('start_date') != None:\n",
    "            trial['start_date'] = root.find('start_date').text\n",
    "        else:\n",
    "            trial['start_date'] = ''\n",
    "\n",
    "        if root.find('enrollment') != None:\n",
    "            trial['enrollment'] = root.find('enrollment').text\n",
    "        else:\n",
    "            trial['enrollment'] = ''\n",
    "\n",
    "        # modified below to output all conditions being studied, not just the first condition listed\n",
    "        l_cond = []\n",
    "        for cond in root.findall('condition'):\n",
    "            entry = cond.text.upper().\\\n",
    "                replace('CORONAVIRUS INFECTIONS','CORONAVIRUS INFECTION').\\\n",
    "                replace('CORONA VIRUS INFECTION','CORONAVIRUS INFECTION').\\\n",
    "                replace('SARS-COV-2','SARS-CoV2').\\\n",
    "                replace('SARS-COV 2','SARS-CoV2').\\\n",
    "                replace('SARS-COV2','SARS-CoV2').\\\n",
    "                replace('COVID-19','COVID').\\\n",
    "                replace('COVID19','COVID').\\\n",
    "                replace('COVID 19','COVID').\\\n",
    "            l_cond.append(entry)\n",
    "        trial['condition'] = '; '.join(l_cond)\n",
    "\n",
    "        if root.find('location_countries') != None:\n",
    "            trial['location_countries'] = root.find('location_countries').find('country').text.upper()\n",
    "        else:\n",
    "            trial['location_countries'] = ''\n",
    "\n",
    "        # also modified below to find all interventions used\n",
    "        l_inter = []\n",
    "        if root.findall('intervention') != None:\n",
    "            for inter in root.findall('intervention'):\n",
    "                inter_entry = inter.find('intervention_name').text.upper()\n",
    "                l_inter.append(inter_entry)\n",
    "            trial['intervention'] = '; '.join(l_inter)\n",
    "        else:\n",
    "            trial['intervention'] = ''\n",
    "\n",
    "        for entry in root.findall('keyword'):\n",
    "            list_keywords.append(entry.text)\n",
    "\n",
    "        if root.find('official_title') == None:\n",
    "            trial['title'] = root.find('brief_title').text\n",
    "        else:\n",
    "            trial['title'] = root.find('official_title').text\n",
    "\n",
    "        date_string = root.find('required_header').find('download_date').text\n",
    "        trial['date_processed'] = date_string.replace('ClinicalTrials.gov processed this data on ', '')\n",
    "\n",
    "        trial['sponsors'] = root.find('sponsors').find('lead_sponsor').find('agency').text\n",
    "\n",
    "        df_studies = df_studies.append(trial, ignore_index=True)\n",
    "\n",
    "    # save as a csv file\n",
    "    df_studies.to_csv(df_studies_pathname)\n"
   ],
   "metadata": {
    "collapsed": false,
    "pycharm": {
     "name": "#%%\n"
    }
   }
  },
  {
   "cell_type": "code",
   "execution_count": 3,
   "outputs": [
    {
     "data": {
      "text/plain": "        Unnamed: 0    enrollment\ncount  5020.000000  4.989000e+03\nmean   2509.500000  1.981830e+04\nstd    1449.293506  4.333506e+05\nmin       0.000000  0.000000e+00\n25%    1254.750000  6.000000e+01\n50%    2509.500000  1.750000e+02\n75%    3764.250000  5.600000e+02\nmax    5019.000000  2.000000e+07",
      "text/html": "<div>\n<style scoped>\n    .dataframe tbody tr th:only-of-type {\n        vertical-align: middle;\n    }\n\n    .dataframe tbody tr th {\n        vertical-align: top;\n    }\n\n    .dataframe thead th {\n        text-align: right;\n    }\n</style>\n<table border=\"1\" class=\"dataframe\">\n  <thead>\n    <tr style=\"text-align: right;\">\n      <th></th>\n      <th>Unnamed: 0</th>\n      <th>enrollment</th>\n    </tr>\n  </thead>\n  <tbody>\n    <tr>\n      <th>count</th>\n      <td>5020.000000</td>\n      <td>4.989000e+03</td>\n    </tr>\n    <tr>\n      <th>mean</th>\n      <td>2509.500000</td>\n      <td>1.981830e+04</td>\n    </tr>\n    <tr>\n      <th>std</th>\n      <td>1449.293506</td>\n      <td>4.333506e+05</td>\n    </tr>\n    <tr>\n      <th>min</th>\n      <td>0.000000</td>\n      <td>0.000000e+00</td>\n    </tr>\n    <tr>\n      <th>25%</th>\n      <td>1254.750000</td>\n      <td>6.000000e+01</td>\n    </tr>\n    <tr>\n      <th>50%</th>\n      <td>2509.500000</td>\n      <td>1.750000e+02</td>\n    </tr>\n    <tr>\n      <th>75%</th>\n      <td>3764.250000</td>\n      <td>5.600000e+02</td>\n    </tr>\n    <tr>\n      <th>max</th>\n      <td>5019.000000</td>\n      <td>2.000000e+07</td>\n    </tr>\n  </tbody>\n</table>\n</div>"
     },
     "execution_count": 3,
     "metadata": {},
     "output_type": "execute_result"
    }
   ],
   "source": [
    "# print the first few rows of studies dataframe and describe it\n",
    "df_studies.head()\n",
    "df_studies.describe()"
   ],
   "metadata": {
    "collapsed": false,
    "pycharm": {
     "name": "#%%\n"
    }
   }
  },
  {
   "cell_type": "code",
   "execution_count": 4,
   "outputs": [
    {
     "data": {
      "text/plain": "   Rank   NCT Number                                              Title  \\\n0     1  NCT04595136  Study to Evaluate the Efficacy of COVID19-0001...   \n1     2  NCT04395482  Lung CT Scan Analysis of SARS-CoV2 Induced Lun...   \n2     3  NCT04416061  The Role of a Private Hospital in Hong Kong Am...   \n3     4  NCT04395924         Maternal-foetal Transmission of SARS-Cov-2   \n4     5  NCT04516954          Convalescent Plasma for COVID-19 Patients   \n\n        Acronym                   Status         Study Results  \\\n0      COVID-19       Not yet recruiting  No Results Available   \n1   TAC-COVID19               Recruiting  No Results Available   \n2      COVID-19   Active, not recruiting  No Results Available   \n3  TMF-COVID-19               Recruiting  No Results Available   \n4          CPCP  Enrolling by invitation  No Results Available   \n\n                                          Conditions  \\\n0                               SARS-CoV-2 Infection   \n1                                            covid19   \n2                                              COVID   \n3  Maternal Fetal Infection Transmission|COVID-19...   \n4                                           COVID 19   \n\n                                       Interventions  \\\n0    Drug: Drug COVID19-0001-USR|Drug: normal saline   \n1  Other: Lung CT scan analysis in COVID-19 patients   \n2          Diagnostic Test: COVID 19 Diagnostic Test   \n3  Diagnostic Test: Diagnosis of SARS-Cov2 by RT-...   \n4           Biological: Convalescent COVID 19 Plasma   \n\n                                    Outcome Measures  \\\n0  Change on viral load results from baseline aft...   \n1  A qualitative analysis of parenchymal lung dam...   \n2  Proportion of asymptomatic subjects|Proportion...   \n3  COVID-19 by positive PCR in cord blood and / o...   \n4  Evaluate the safety|Change in requirement for ...   \n\n                               Sponsor/Collaborators  ...         Other IDs  \\\n0                         United Medical Specialties  ...  COVID19-0001-USR   \n1                       University of Milano Bicocca  ...       TAC-COVID19   \n2                    Hong Kong Sanatorium & Hospital  ...        RC-2020-08   \n3  Centre Hospitalier Régional d'Orléans|Centre d...  ...      CHRO-2020-10   \n4  Vinmec Research Institute of Stem Cell and Gen...  ...       ISC.20.11.1   \n\n         Start Date Primary Completion Date    Completion Date  \\\n0  November 2, 2020       December 15, 2020   January 29, 2021   \n1       May 7, 2020           June 15, 2021      June 15, 2021   \n2      May 25, 2020           July 31, 2020    August 31, 2020   \n3       May 5, 2020                May 2021           May 2021   \n4    August 1, 2020       November 30, 2020  December 30, 2020   \n\n       First Posted Results First Posted Last Update Posted  \\\n0  October 20, 2020                  NaN   October 20, 2020   \n1      May 20, 2020                  NaN   November 9, 2020   \n2      June 4, 2020                  NaN       June 4, 2020   \n3      May 20, 2020                  NaN       June 4, 2020   \n4   August 18, 2020                  NaN    August 20, 2020   \n\n                                           Locations Study Documents  \\\n0       Cimedical, Barranquilla, Atlantico, Colombia             NaN   \n1  Ospedale Papa Giovanni XXIII, Bergamo, Italy|P...             NaN   \n2  Hong Kong Sanatorium & Hospital, Hong Kong, Ho...             NaN   \n3                       CHR Orléans, Orléans, France             NaN   \n4  Vinmec Research Institute of Stem cell and Gen...             NaN   \n\n                                           URL  \n0  https://ClinicalTrials.gov/show/NCT04595136  \n1  https://ClinicalTrials.gov/show/NCT04395482  \n2  https://ClinicalTrials.gov/show/NCT04416061  \n3  https://ClinicalTrials.gov/show/NCT04395924  \n4  https://ClinicalTrials.gov/show/NCT04516954  \n\n[5 rows x 27 columns]",
      "text/html": "<div>\n<style scoped>\n    .dataframe tbody tr th:only-of-type {\n        vertical-align: middle;\n    }\n\n    .dataframe tbody tr th {\n        vertical-align: top;\n    }\n\n    .dataframe thead th {\n        text-align: right;\n    }\n</style>\n<table border=\"1\" class=\"dataframe\">\n  <thead>\n    <tr style=\"text-align: right;\">\n      <th></th>\n      <th>Rank</th>\n      <th>NCT Number</th>\n      <th>Title</th>\n      <th>Acronym</th>\n      <th>Status</th>\n      <th>Study Results</th>\n      <th>Conditions</th>\n      <th>Interventions</th>\n      <th>Outcome Measures</th>\n      <th>Sponsor/Collaborators</th>\n      <th>...</th>\n      <th>Other IDs</th>\n      <th>Start Date</th>\n      <th>Primary Completion Date</th>\n      <th>Completion Date</th>\n      <th>First Posted</th>\n      <th>Results First Posted</th>\n      <th>Last Update Posted</th>\n      <th>Locations</th>\n      <th>Study Documents</th>\n      <th>URL</th>\n    </tr>\n  </thead>\n  <tbody>\n    <tr>\n      <th>0</th>\n      <td>1</td>\n      <td>NCT04595136</td>\n      <td>Study to Evaluate the Efficacy of COVID19-0001...</td>\n      <td>COVID-19</td>\n      <td>Not yet recruiting</td>\n      <td>No Results Available</td>\n      <td>SARS-CoV-2 Infection</td>\n      <td>Drug: Drug COVID19-0001-USR|Drug: normal saline</td>\n      <td>Change on viral load results from baseline aft...</td>\n      <td>United Medical Specialties</td>\n      <td>...</td>\n      <td>COVID19-0001-USR</td>\n      <td>November 2, 2020</td>\n      <td>December 15, 2020</td>\n      <td>January 29, 2021</td>\n      <td>October 20, 2020</td>\n      <td>NaN</td>\n      <td>October 20, 2020</td>\n      <td>Cimedical, Barranquilla, Atlantico, Colombia</td>\n      <td>NaN</td>\n      <td>https://ClinicalTrials.gov/show/NCT04595136</td>\n    </tr>\n    <tr>\n      <th>1</th>\n      <td>2</td>\n      <td>NCT04395482</td>\n      <td>Lung CT Scan Analysis of SARS-CoV2 Induced Lun...</td>\n      <td>TAC-COVID19</td>\n      <td>Recruiting</td>\n      <td>No Results Available</td>\n      <td>covid19</td>\n      <td>Other: Lung CT scan analysis in COVID-19 patients</td>\n      <td>A qualitative analysis of parenchymal lung dam...</td>\n      <td>University of Milano Bicocca</td>\n      <td>...</td>\n      <td>TAC-COVID19</td>\n      <td>May 7, 2020</td>\n      <td>June 15, 2021</td>\n      <td>June 15, 2021</td>\n      <td>May 20, 2020</td>\n      <td>NaN</td>\n      <td>November 9, 2020</td>\n      <td>Ospedale Papa Giovanni XXIII, Bergamo, Italy|P...</td>\n      <td>NaN</td>\n      <td>https://ClinicalTrials.gov/show/NCT04395482</td>\n    </tr>\n    <tr>\n      <th>2</th>\n      <td>3</td>\n      <td>NCT04416061</td>\n      <td>The Role of a Private Hospital in Hong Kong Am...</td>\n      <td>COVID-19</td>\n      <td>Active, not recruiting</td>\n      <td>No Results Available</td>\n      <td>COVID</td>\n      <td>Diagnostic Test: COVID 19 Diagnostic Test</td>\n      <td>Proportion of asymptomatic subjects|Proportion...</td>\n      <td>Hong Kong Sanatorium &amp; Hospital</td>\n      <td>...</td>\n      <td>RC-2020-08</td>\n      <td>May 25, 2020</td>\n      <td>July 31, 2020</td>\n      <td>August 31, 2020</td>\n      <td>June 4, 2020</td>\n      <td>NaN</td>\n      <td>June 4, 2020</td>\n      <td>Hong Kong Sanatorium &amp; Hospital, Hong Kong, Ho...</td>\n      <td>NaN</td>\n      <td>https://ClinicalTrials.gov/show/NCT04416061</td>\n    </tr>\n    <tr>\n      <th>3</th>\n      <td>4</td>\n      <td>NCT04395924</td>\n      <td>Maternal-foetal Transmission of SARS-Cov-2</td>\n      <td>TMF-COVID-19</td>\n      <td>Recruiting</td>\n      <td>No Results Available</td>\n      <td>Maternal Fetal Infection Transmission|COVID-19...</td>\n      <td>Diagnostic Test: Diagnosis of SARS-Cov2 by RT-...</td>\n      <td>COVID-19 by positive PCR in cord blood and / o...</td>\n      <td>Centre Hospitalier Régional d'Orléans|Centre d...</td>\n      <td>...</td>\n      <td>CHRO-2020-10</td>\n      <td>May 5, 2020</td>\n      <td>May 2021</td>\n      <td>May 2021</td>\n      <td>May 20, 2020</td>\n      <td>NaN</td>\n      <td>June 4, 2020</td>\n      <td>CHR Orléans, Orléans, France</td>\n      <td>NaN</td>\n      <td>https://ClinicalTrials.gov/show/NCT04395924</td>\n    </tr>\n    <tr>\n      <th>4</th>\n      <td>5</td>\n      <td>NCT04516954</td>\n      <td>Convalescent Plasma for COVID-19 Patients</td>\n      <td>CPCP</td>\n      <td>Enrolling by invitation</td>\n      <td>No Results Available</td>\n      <td>COVID 19</td>\n      <td>Biological: Convalescent COVID 19 Plasma</td>\n      <td>Evaluate the safety|Change in requirement for ...</td>\n      <td>Vinmec Research Institute of Stem Cell and Gen...</td>\n      <td>...</td>\n      <td>ISC.20.11.1</td>\n      <td>August 1, 2020</td>\n      <td>November 30, 2020</td>\n      <td>December 30, 2020</td>\n      <td>August 18, 2020</td>\n      <td>NaN</td>\n      <td>August 20, 2020</td>\n      <td>Vinmec Research Institute of Stem cell and Gen...</td>\n      <td>NaN</td>\n      <td>https://ClinicalTrials.gov/show/NCT04516954</td>\n    </tr>\n  </tbody>\n</table>\n<p>5 rows × 27 columns</p>\n</div>"
     },
     "execution_count": 4,
     "metadata": {},
     "output_type": "execute_result"
    }
   ],
   "source": [
    "# Load the CSV file as well\n",
    "df_studies_CSV = pd.read_csv( path + 'covid19-clinical-trials-dataset/COVID clinical trials.csv')\n",
    "df_studies_CSV.head()"
   ],
   "metadata": {
    "collapsed": false,
    "pycharm": {
     "name": "#%%\n"
    }
   }
  },
  {
   "cell_type": "code",
   "execution_count": 5,
   "outputs": [
    {
     "name": "stdout",
     "output_type": "stream",
     "text": [
      "['Unnamed: 0', 'condition', 'date_processed', 'enrollment', 'id', 'intervention', 'location_countries', 'overall_status', 'sponsors', 'start_date', 'study_type', 'title']\n",
      "['Rank', 'NCT Number', 'Title', 'Acronym', 'Status', 'Study Results', 'Conditions', 'Interventions', 'Outcome Measures', 'Sponsor/Collaborators', 'Gender', 'Age', 'Phases', 'Enrollment', 'Funded Bys', 'Study Type', 'Study Designs', 'Other IDs', 'Start Date', 'Primary Completion Date', 'Completion Date', 'First Posted', 'Results First Posted', 'Last Update Posted', 'Locations', 'Study Documents', 'URL']\n"
     ]
    }
   ],
   "source": [
    "# What's in the CSV that's not listed in the XML data? Or at least lost in translation to dfs?\n",
    "print(list(df_studies.columns))\n",
    "print(list(df_studies_CSV.columns))"
   ],
   "metadata": {
    "collapsed": false,
    "pycharm": {
     "name": "#%%\n"
    }
   }
  },
  {
   "cell_type": "markdown",
   "source": [
    "Because we extracted only a few important categories of information from the .xml files, the `df_studies` dataframe is now\n",
    "more condensed than the .csv file's summary in `df_studies_CSV`."
   ],
   "metadata": {
    "collapsed": false,
    "pycharm": {
     "name": "#%% md\n"
    }
   }
  },
  {
   "cell_type": "markdown",
   "source": [
    "<br>\n",
    "\n",
    "## Brainstorming questions I'd like to ask\n",
    "\n",
    "To start the EDA, let's look at a few of the columns in `df_studies` (i.e. the one that's been summarized better) in\n",
    "more detail!"
   ],
   "metadata": {
    "collapsed": false,
    "pycharm": {
     "name": "#%% md\n"
    }
   }
  },
  {
   "cell_type": "code",
   "execution_count": 6,
   "outputs": [
    {
     "name": "stdout",
     "output_type": "stream",
     "text": [
      "['Unnamed: 0', 'condition', 'date_processed', 'enrollment', 'id', 'intervention', 'location_countries', 'overall_status', 'sponsors', 'start_date', 'study_type', 'title']\n"
     ]
    }
   ],
   "source": [
    "list_dfColumns = list(df_studies.columns)\n",
    "print(list_dfColumns)"
   ],
   "metadata": {
    "collapsed": false,
    "pycharm": {
     "name": "#%%\n"
    }
   }
  },
  {
   "cell_type": "markdown",
   "source": [
    "Some questions I would like to ask throughout this analysis:\n",
    "\n",
    "1. Regarding the entire dataset:\n",
    "    - What are the conditions (COVID- and non-COVID-related) that are being studied?\n",
    "    - What status is each study in? Which of those are COVID-related?\n",
    "        - From the CSV file column description in original dataset post, there is a very small number of studies with results\n",
    "    available (1%). What percentage is this of the actual studies that have already been completed?\n",
    "    - In which countries do studies take place? Which of those are COVID-related?\n",
    "    - What are the study types used? Do COVID-related studies differ from the rest?\n",
    "        - What's the distribution of enrollment sizes for study types?\n",
    "\n",
    "2. In COVID-related studies:\n",
    "    - Specific to **observational studies**:\n",
    "        - length of each study (from CSV)\n",
    "        - how is the outcome measured?\n",
    "    - Specific to **interventional studies**:\n",
    "        - length of each study (also from CSV)\n",
    "        - what were some types of interventions used?\n",
    "        - in drug studies, what were the top 5 most popular ones studied?\n",
    "    - In the small percentage of studies that actually have results posted, were any of them focused on COVID?\n",
    "        - If so, can we draw any meaningful conclusions?"
   ],
   "metadata": {
    "collapsed": false,
    "pycharm": {
     "name": "#%% md\n"
    }
   }
  },
  {
   "cell_type": "markdown",
   "source": [
    "<br>\n",
    "\n",
    "## Exploratory analysis\n",
    "\n",
    "### 1. Comparison of COVID- and non-COVID-related studies\n",
    "\n",
    "#### Conditions being studied\n",
    "First, I ask what conditions (COVID- and non-COVID-related) are being studied."
   ],
   "metadata": {
    "collapsed": false,
    "pycharm": {
     "name": "#%% md\n"
    }
   }
  },
  {
   "cell_type": "code",
   "execution_count": 7,
   "outputs": [
    {
     "data": {
      "text/plain": "2464"
     },
     "execution_count": 7,
     "metadata": {},
     "output_type": "execute_result"
    }
   ],
   "source": [
    "# Use a pie chart: must count incidences of each type\n",
    "\n",
    "condition_counts = df_studies.condition.value_counts()\n",
    "conditions_list = list(condition_counts.index)\n",
    "len(conditions_list)"
   ],
   "metadata": {
    "collapsed": false,
    "pycharm": {
     "name": "#%%\n"
    }
   }
  },
  {
   "cell_type": "code",
   "execution_count": 8,
   "outputs": [
    {
     "data": {
      "text/plain": "       condition    study_topic\ncount       5020           5020\nunique      2464              3\ntop        COVID  COVID-related\nfreq        1448           3935",
      "text/html": "<div>\n<style scoped>\n    .dataframe tbody tr th:only-of-type {\n        vertical-align: middle;\n    }\n\n    .dataframe tbody tr th {\n        vertical-align: top;\n    }\n\n    .dataframe thead th {\n        text-align: right;\n    }\n</style>\n<table border=\"1\" class=\"dataframe\">\n  <thead>\n    <tr style=\"text-align: right;\">\n      <th></th>\n      <th>condition</th>\n      <th>study_topic</th>\n    </tr>\n  </thead>\n  <tbody>\n    <tr>\n      <th>count</th>\n      <td>5020</td>\n      <td>5020</td>\n    </tr>\n    <tr>\n      <th>unique</th>\n      <td>2464</td>\n      <td>3</td>\n    </tr>\n    <tr>\n      <th>top</th>\n      <td>COVID</td>\n      <td>COVID-related</td>\n    </tr>\n    <tr>\n      <th>freq</th>\n      <td>1448</td>\n      <td>3935</td>\n    </tr>\n  </tbody>\n</table>\n</div>"
     },
     "execution_count": 8,
     "metadata": {},
     "output_type": "execute_result"
    }
   ],
   "source": [
    "# Define keywords to look for; though not ideal, I am choosing to manually define these keywords\n",
    "covid_keys = [\n",
    "    'covid', 'coronavirus', 'sars-cov2', '2019-ncov', 'severe acute respiratory syndrome coronavirus 2', 'ncov'\n",
    "]\n",
    "resp_keys = [\n",
    "    'severe acute respiratory syndrome', 'sars', 'respiratory', 'pneumonia', 'cold', 'flu'\n",
    "]\n",
    "\n",
    "df_studies['study_topic'] = ['']*len(df_studies.condition)\n",
    "c = 0\n",
    "\n",
    "for cond in conditions_list:\n",
    "    # from the condition chosen, parse for any of the keys string\n",
    "    if any(key in cond.lower() for key in covid_keys):\n",
    "        label = 'COVID-related'\n",
    "    elif any(key in cond.lower() for key in resp_keys):\n",
    "        label = 'Unrelated, Respiratory'\n",
    "    else:\n",
    "        label = 'Unrelated'\n",
    "    df_studies.loc[df_studies.condition == cond, 'study_topic'] = label\n",
    "\n",
    "df_studies[['condition','study_topic']].describe()"
   ],
   "metadata": {
    "collapsed": false,
    "pycharm": {
     "name": "#%%\n"
    }
   }
  },
  {
   "cell_type": "code",
   "execution_count": 9,
   "outputs": [
    {
     "data": {
      "text/plain": "<Figure size 432x288 with 1 Axes>",
      "image/png": "[encoded data removed]"
     },
     "metadata": {},
     "output_type": "display_data"
    }
   ],
   "source": [
    "# Visualize the data\n",
    "# TODO: (if I have time in the end) write a function for each type of chart to be formatted in a way I like\n",
    "\n",
    "condition_detailed_counts = df_studies.study_topic.value_counts()\n",
    "# print(condition_detailed_counts)\n",
    "\n",
    "values = condition_detailed_counts.to_numpy()\n",
    "labels = condition_detailed_counts.keys().to_numpy()\n",
    "\n",
    "def pctvalue(pct, data):\n",
    "    counts = int(pct/100 * np.sum(data))\n",
    "    return \"{:.1f}%\\n({:d} studies)\".format(pct, counts)\n",
    "\n",
    "fig, ax = plt.subplots(subplot_kw=dict(aspect='equal'))\n",
    "\n",
    "wedges, texts, autotexts = ax.pie(\n",
    "    values,\n",
    "    textprops=dict(color='w'),\n",
    "    autopct=lambda pct: pctvalue(pct, values)\n",
    ")\n",
    "\n",
    "# Colors\n",
    "def data_color(datalength, mapname='plasma'):\n",
    "    colours_list = plt.get_cmap(mapname)(np.linspace(0.15,0.84,datalength))\n",
    "    return colours_list\n",
    "\n",
    "colours_list = data_color(len(wedges))\n",
    "for idx, wedge in enumerate(wedges):\n",
    "    wedge = wedge.set_color(colours_list[idx])\n",
    "\n",
    "ax.legend(\n",
    "    wedges, labels,\n",
    "    title = \"Type of condition\",\n",
    "    loc = \"center\",\n",
    "    bbox_to_anchor=(0,-0.1, 1,-0.1)\n",
    ")\n",
    "\n",
    "ax.set_title(\"What types of conditions were studied? - An initial breakdown\")\n",
    "\n",
    "plt.show()\n",
    "\n",
    "# BONUS TODO: Make the plot interactive using plotly and enable display of all the raw condition names as listed in the datset\n"
   ],
   "metadata": {
    "collapsed": false,
    "pycharm": {
     "name": "#%%\n"
    }
   }
  },
  {
   "cell_type": "markdown",
   "source": [
    "This pie chart shows that almost 78% of the current clinical studies available in the dataset are concerned with COVID-19.\n",
    "However, the **conditions** being studied may not completely represent all studies that are related to COVID. For this,\n",
    "let's examine the **study titles** to see if the `Unrelated` and `Respiratory` studies contain any COVID-related keywords in\n",
    "their titles."
   ],
   "metadata": {
    "collapsed": false,
    "pycharm": {
     "name": "#%% md\n"
    }
   }
  },
  {
   "cell_type": "code",
   "execution_count": 10,
   "outputs": [],
   "source": [
    "# Look for the COVID keywords in titles.\n",
    "titles_unrelated = df_studies[df_studies['study_topic'] == 'Unrelated']['title']\n",
    "titles_resp = df_studies[df_studies['study_topic'] == 'Respiratory']['title']\n",
    "\n",
    "for title in titles_unrelated:\n",
    "    if any(key in title.lower() for key in covid_keys):\n",
    "        df_studies.loc[df_studies['title'] == title,'study_topic'] = 'COVID_secondary'\n",
    "\n",
    "for title in titles_resp:\n",
    "    if any(key in title.lower() for key in covid_keys):\n",
    "        df_studies.loc[df_studies['title'] == title,'study_topic'] = 'COVID_secondary'"
   ],
   "metadata": {
    "collapsed": false,
    "pycharm": {
     "name": "#%%\n"
    }
   }
  },
  {
   "cell_type": "code",
   "execution_count": 11,
   "outputs": [
    {
     "name": "stdout",
     "output_type": "stream",
     "text": [
      "TRACERx Renal (TRAcking Renal Cell Carcinoma Evolution Through Therapy (Rx)) CAPTURE: COVID-19 Antiviral Response in a Pan-tumour Immune Study \n",
      "\n",
      "A Phase II Randomised Study of Oral Prednisolone in Early Diffuse Cutaneous Systemic Sclerosis (Initially Double-blind, Then Switched to Open-label Because of Covid-19) \n",
      "\n",
      "Addressing Post-Intensive Care Syndrome Among Survivors of COVID (APICS-COVID) \n",
      "\n",
      "A Phase II Study of IL-1 Receptor Antagonist Anakinra to Prevent Severe Neurotoxicity and Cytokine Release Syndrome in Patients Receiving CD19-Specific Chimeric Antigen Receptor (CAR) T Cells And to Treat Systemic Inflammation Associated With COVID-19 \n",
      "\n",
      "Impact of a Novel Coronavirus (2019-nCoV) Outbreak on Public Anxiety and Cardiovascular Disease Risk in China \n",
      "\n",
      "Registry Study on the Efficacy of a Self-test and Self-alert Applet in Detecting Susceptible Infection of COVID-19 --a Population Based Mobile Internet Survey \n",
      "\n",
      "A Multicenter Observational Study of the Perinatal-neonatal Population With or With Risk of COVID-19 in China \n",
      "\n",
      "Mental Health and Its Correlates Among Chinese Adolescents Exposed to the Novel Coronavirus Disease 2019: A Longitudinal Study Protocol \n",
      "\n"
     ]
    }
   ],
   "source": [
    "pd.set_option('display.max_colwidth', 40)\n",
    "\n",
    "for i in range(8):\n",
    "    print(df_studies[df_studies['study_topic'] == 'COVID_secondary']['title'].iloc[i],'\\n')"
   ],
   "metadata": {
    "collapsed": false,
    "pycharm": {
     "name": "#%%\n"
    }
   }
  },
  {
   "cell_type": "markdown",
   "source": [
    "As shown here, studies that were not directly concerned with symptoms/conditions associated with COVID-19 as classified\n",
    "through `Conditions` category were still relevant to the disease. For example, some were studying the direct impact of COVID-19 (e.g. *\"Impact of a Novel Coronavirus (2019-nCoV) Outbreak on Public Anxiety\n",
    "and Cardiovascular Disease Risk in China\"*), while others investigated the indirect impact of COVID-19 (e.g. *\"\n",
    "TRACERx Renal (TRAcking Renal Cell Carcinoma Evolution Through Therapy (Rx)) CAPTURE: COVID-19 Antiviral Response in a Pan-tumour Immune Study\n",
    "\"*).\n",
    "\n",
    "What do the remaining titles look like?"
   ],
   "metadata": {
    "collapsed": false,
    "pycharm": {
     "name": "#%% md\n"
    }
   }
  },
  {
   "cell_type": "code",
   "execution_count": 12,
   "outputs": [
    {
     "name": "stdout",
     "output_type": "stream",
     "text": [
      "Exercise in Genetic Cardiovascular Conditions (Lifestyle and Exercise in Hypertrophic Cardiomyopathy \"LIVE-HCM\"/Lifestyle and Exercise in the Long QT Syndrome \"LIVE-LQTS\" \n",
      "\n",
      "Uveitis/Intraocular Inflammatory Disease Biobank (iBank) \n",
      "\n",
      "Reshaping the Path of Vascular Cognitive Impairment With Resistance Training \n",
      "\n",
      "Reshaping the Path of Mild Cognitive Impairment by Refining Exercise Prescription: Understanding Training Type and Exploring Mechanisms \n",
      "\n",
      "Influence of Exercise on Neurocognitive Function in Breast Cancer \n",
      "\n",
      "There are 381 titles that remain unassociated with COVID-19, with some listed above.\n"
     ]
    }
   ],
   "source": [
    "# Some titles from studies that are still not classified as being related to COVID\n",
    "titles_remaining = df_studies[df_studies['study_topic'] == ('Unrelated' or 'Respiratory')]['title']\n",
    "\n",
    "pd.set_option('display.max_colwidth',50)\n",
    "# print(titles_remaining.head())\n",
    "for i in range(5,10):\n",
    "    print(titles_remaining.iloc[i], '\\n')\n",
    "\n",
    "print('There are {} titles that remain unassociated with COVID-19, with some listed above.'.format(len(titles_remaining)))"
   ],
   "metadata": {
    "collapsed": false,
    "pycharm": {
     "name": "#%%\n"
    }
   }
  },
  {
   "cell_type": "markdown",
   "source": [
    "Now, we can visualize the changes in an updated pie chart."
   ],
   "metadata": {
    "collapsed": false,
    "pycharm": {
     "name": "#%% md\n"
    }
   }
  },
  {
   "cell_type": "code",
   "execution_count": 13,
   "outputs": [
    {
     "data": {
      "text/plain": "<Figure size 432x288 with 1 Axes>",
      "image/png": "[encoded data removed]"
     },
     "metadata": {},
     "output_type": "display_data"
    }
   ],
   "source": [
    "# Re-visualize the above data\n",
    "\n",
    "condition_detailed_counts = df_studies.study_topic.value_counts()\n",
    "# print(condition_detailed_counts)\n",
    "\n",
    "values = condition_detailed_counts.to_numpy()\n",
    "labels = condition_detailed_counts.keys().to_numpy()\n",
    "\n",
    "def getpct(data):\n",
    "    pct = data / np.sum(data) * 100\n",
    "    list_pcts = []\n",
    "    for idx in range(len(data)):\n",
    "        list_pcts.append(\"{:.1f}% ({:d} studies)\".format(pct[idx], data[idx]))\n",
    "    return list_pcts\n",
    "\n",
    "pcts = getpct(values)\n",
    "\n",
    "fig, ax = plt.subplots(subplot_kw=dict(aspect='equal'))\n",
    "wedges, texts = ax.pie(values)\n",
    "\n",
    "# Colours\n",
    "colours_list = data_color(len(wedges))\n",
    "for idx, wedge in enumerate(wedges):\n",
    "    wedge.set_color(colours_list[idx])\n",
    "\n",
    "# Take some labels out of box\n",
    "bbox_props = dict(boxstyle=\"square,pad=0.3\",\n",
    "                  fc=\"1\", ec=\"1\", lw=0)\n",
    "kw = dict(arrowprops=dict(arrowstyle=\"-\",connectionstyle='arc3, rad=0'),\n",
    "          bbox=bbox_props, zorder=0, va=\"center\", color='k')\n",
    "\n",
    "for i, p in enumerate(wedges):\n",
    "    ang = (p.theta2 - p.theta1)/2. + p.theta1\n",
    "    y = np.sin(np.deg2rad(ang))\n",
    "    x = np.cos(np.deg2rad(ang))\n",
    "    ax.annotate(pcts[i], xy=(x, y), xytext=(1.25, y),\n",
    "                horizontalalignment='left', **kw)\n",
    "\n",
    "ax.legend(\n",
    "    wedges, labels,\n",
    "    title = \"Type of condition\",\n",
    "    loc = \"best\",\n",
    "    bbox_to_anchor=(-0.1,0.6,0.1,0.1)\n",
    ")\n",
    "\n",
    "ax.set_title(\"What types of conditions were studied? - A closer look\")\n",
    "\n",
    "plt.show()"
   ],
   "metadata": {
    "collapsed": false,
    "pycharm": {
     "name": "#%%\n"
    }
   }
  },
  {
   "cell_type": "markdown",
   "source": [
    "As shown, COVID-related studies, whether directly or indirectly related, make up almost 90% of the trials listed\n",
    "on the [ClinicalTrials.gov](ClinicalTrials.gov) website. Of the remainder of them, about 3% are unrelated but study\n",
    "respiratory diseases such as the flu or common cold, and about 8% appear to be totally unrelated to COVID-19."
   ],
   "metadata": {
    "collapsed": false,
    "pycharm": {
     "name": "#%% md\n"
    }
   }
  },
  {
   "cell_type": "markdown",
   "source": [
    "<br>\n",
    "\n",
    "#### Study status\n",
    "What status is each study currently in? We can start by plotting the `overall_status` column as a simple horizontal bar chart."
   ],
   "metadata": {
    "collapsed": false,
    "pycharm": {
     "name": "#%% md\n"
    }
   }
  },
  {
   "cell_type": "code",
   "execution_count": 14,
   "outputs": [
    {
     "data": {
      "text/plain": "<Figure size 640x480 with 1 Axes>",
      "image/png": "[encoded data removed]"
     },
     "metadata": {},
     "output_type": "display_data"
    }
   ],
   "source": [
    "# Define a custom horizontal bar graph\n",
    "def mybarh(catvar, varcounts, colourmap='plasma', xlabel='Count', title='', diff1stColour=True):\n",
    "\n",
    "    plt.rcdefaults()\n",
    "    fig, ax = plt.subplots()\n",
    "\n",
    "    colours_list = data_color(len(wedges),mapname=colourmap)\n",
    "\n",
    "    bar_elems = ax.barh(catvar, varcounts, align='center',facecolor=colours_list[0])\n",
    "    if diff1stColour:\n",
    "        bar_elems[0].set_color(colours_list[1])\n",
    "\n",
    "    ax.set_yticks(range(len(catvar)))\n",
    "    ax.set_yticklabels(catvar)\n",
    "    ax.invert_yaxis()  # labels read top-to-bottom\n",
    "    ax.set_xlabel(xlabel)\n",
    "    ax.set_title(title)\n",
    "\n",
    "    _, xmax = plt.xlim()\n",
    "    if diff1stColour:\n",
    "        xmax *= 1.2\n",
    "    else:\n",
    "        xmax *= 1.1\n",
    "    plt.xlim(0, xmax)\n",
    "\n",
    "    for i, c in enumerate(varcounts):\n",
    "        if diff1stColour and (c == max(varcounts)):\n",
    "             ax.text(c + xmax*0.01, i,\n",
    "                '{}, {:.1f}%'.format(c, c/np.sum(varcounts)*100),\n",
    "                color='black', ha='left', va='center')\n",
    "        else:\n",
    "            ax.text(c + xmax*0.01, i,\n",
    "                str(c),\n",
    "                color='black', ha='left', va='center')\n",
    "\n",
    "    return plt.show()\n",
    "\n",
    "# Plot\n",
    "status = df_studies['overall_status'].value_counts().index\n",
    "counts = df_studies['overall_status'].value_counts().values\n",
    "\n",
    "mybarh(status, counts,\n",
    "       title='Overall status of clinical studies \\n'\n",
    "             'on ClincalTrials.gov database')"
   ],
   "metadata": {
    "collapsed": false,
    "pycharm": {
     "name": "#%%\n"
    }
   }
  },
  {
   "cell_type": "markdown",
   "source": [
    "As shown, almost half of the studies are currently recruiting for participants! It would be interesting to see what proportion of\n",
    "these studies are made up by COVID-related ones.\n",
    "\n",
    "Moreover, while the current chart is displayed in the descending order of counts, we can also further categorize statuses.\n",
    "Note that the `overall_status` column contains information both about **recruitment status** and **expanded access status**.\n",
    "Here, \"expanded access\" refers to a way for patients with serious diseases or conditions who cannot participate in a clinical trial\n",
    "to gain access to a medical product that has not been approved by the U.S. Food and Drug Administration (FDA).\n",
    "\n",
    "First, the following are definitions of each category of study status:\n",
    "- **Not yet recruiting:** The study has not started recruiting participants.\n",
    "- **Recruiting**: The study is currently recruiting participants.\n",
    "- **Enrolling by invitation**: The study is selecting its participants from a population, or group of people, decided on by the researchers in advance. These studies are not open to everyone who meets the eligibility criteria but only to people in that particular population, who are specifically invited to participate.\n",
    "- **Active, not recruiting**: The study is ongoing, and participants are receiving an intervention or being examined, but potential participants are not currently being recruited or enrolled.\n",
    "- **Suspended**: The study has stopped early but may start again.\n",
    "- **Terminated**: The study has stopped early and will not start again. Participants are no longer being examined or treated.\n",
    "- **Completed**: The study has ended normally, and participants are no longer being examined or treated (that is, the last participant's last visit has occurred).\n",
    "- **Withdrawn**: The study stopped early, before enrolling its first participant.\n",
    "- **Unknown**: A study on ClinicalTrials.gov whose last known status was recruiting; not yet recruiting; or active, not recruiting but that has passed its completion date, and the status has not been last verified within the past 2 years.\n",
    "\n",
    "Overall, we could divide the above into four categories depending on the stage of a study:\n",
    "`Not started`, `In preparation / Active`, `Inactive`, or `Finished`.\n",
    "\n",
    "Secondly, the following are the definitions of each category of expanded access status; these could altogether be put under the `Expanded access` category:\n",
    "- **Available**: Expanded access is currently available for this investigational treatment, and patients who are not participants in the clinical study may be able to gain access to the drug, biologic, or medical device being studied.\n",
    "- **No longer available**: Expanded access was available for this intervention previously but is not currently available and will not be available in the future.\n",
    "- **Temporarily not available**: Expanded access is not currently available for this intervention but is expected to be available in the future.\n",
    "- **Approved for marketing**: The intervention has been approved by the U.S. Food and Drug Administration for use by the public.\n"
   ],
   "metadata": {
    "collapsed": false,
    "pycharm": {
     "name": "#%% md\n"
    }
   }
  },
  {
   "cell_type": "code",
   "execution_count": 15,
   "outputs": [
    {
     "name": "stdout",
     "output_type": "stream",
     "text": [
      "['Recruiting', 'Not yet recruiting', 'Completed', 'Active, not recruiting', 'Enrolling by invitation', 'Withdrawn', 'Terminated', 'Suspended', 'Available', 'No longer available', 'Approved for marketing']\n"
     ]
    }
   ],
   "source": [
    "# TODO: Sort each, and colour each bar according to the groups\n",
    "df_studies['status_detail'] = ['']*len(df_studies.overall_status)\n",
    "overall_status_list = list(df_studies['overall_status'].value_counts().index)\n",
    "print(overall_status_list)"
   ],
   "metadata": {
    "collapsed": false,
    "pycharm": {
     "name": "#%%\n"
    }
   }
  },
  {
   "cell_type": "code",
   "execution_count": 123,
   "outputs": [
    {
     "data": {
      "text/plain": "study_topic_code                              0       1\nstatus_detail    overall_status                        \nExpanded access  Approved for marketing     NaN     2.0\n                 Available                  NaN    22.0\n                 No longer available        NaN     7.0\nFinished         Completed                 69.0   691.0\nIn prep / Active Active, not recruiting    52.0   362.0\n                 Enrolling by invitation   21.0   149.0\n                 Recruiting               275.0  2230.0\nInactive         Suspended                  NaN    23.0\n                 Terminated                 2.0    48.0\n                 Withdrawn                  3.0    83.0\nNot started      Not yet recruiting       118.0   863.0",
      "text/html": "<div>\n<style scoped>\n    .dataframe tbody tr th:only-of-type {\n        vertical-align: middle;\n    }\n\n    .dataframe tbody tr th {\n        vertical-align: top;\n    }\n\n    .dataframe thead th {\n        text-align: right;\n    }\n</style>\n<table border=\"1\" class=\"dataframe\">\n  <thead>\n    <tr style=\"text-align: right;\">\n      <th></th>\n      <th>study_topic_code</th>\n      <th>0</th>\n      <th>1</th>\n    </tr>\n    <tr>\n      <th>status_detail</th>\n      <th>overall_status</th>\n      <th></th>\n      <th></th>\n    </tr>\n  </thead>\n  <tbody>\n    <tr>\n      <th rowspan=\"3\" valign=\"top\">Expanded access</th>\n      <th>Approved for marketing</th>\n      <td>NaN</td>\n      <td>2.0</td>\n    </tr>\n    <tr>\n      <th>Available</th>\n      <td>NaN</td>\n      <td>22.0</td>\n    </tr>\n    <tr>\n      <th>No longer available</th>\n      <td>NaN</td>\n      <td>7.0</td>\n    </tr>\n    <tr>\n      <th>Finished</th>\n      <th>Completed</th>\n      <td>69.0</td>\n      <td>691.0</td>\n    </tr>\n    <tr>\n      <th rowspan=\"3\" valign=\"top\">In prep / Active</th>\n      <th>Active, not recruiting</th>\n      <td>52.0</td>\n      <td>362.0</td>\n    </tr>\n    <tr>\n      <th>Enrolling by invitation</th>\n      <td>21.0</td>\n      <td>149.0</td>\n    </tr>\n    <tr>\n      <th>Recruiting</th>\n      <td>275.0</td>\n      <td>2230.0</td>\n    </tr>\n    <tr>\n      <th rowspan=\"3\" valign=\"top\">Inactive</th>\n      <th>Suspended</th>\n      <td>NaN</td>\n      <td>23.0</td>\n    </tr>\n    <tr>\n      <th>Terminated</th>\n      <td>2.0</td>\n      <td>48.0</td>\n    </tr>\n    <tr>\n      <th>Withdrawn</th>\n      <td>3.0</td>\n      <td>83.0</td>\n    </tr>\n    <tr>\n      <th>Not started</th>\n      <th>Not yet recruiting</th>\n      <td>118.0</td>\n      <td>863.0</td>\n    </tr>\n  </tbody>\n</table>\n</div>"
     },
     "execution_count": 123,
     "metadata": {},
     "output_type": "execute_result"
    }
   ],
   "source": [
    "# Group the statuses\n",
    "group_labels = ['Not started', 'In prep / Active', 'Inactive', 'Finished', 'Expanded access']\n",
    "\n",
    "# TODO: Could refactor this portion; this won't work if the number of studies in each status changes and the\n",
    "# value count order changes\n",
    "for i, s in enumerate(overall_status_list):\n",
    "    if i in [1]:\n",
    "        idx = 0\n",
    "    elif i in [0,3,4]:\n",
    "        idx = 1\n",
    "    elif i in [5,6,7]:\n",
    "        idx = 2\n",
    "    elif i in [2]:\n",
    "        idx = 3\n",
    "    elif i in [8,9,10]:\n",
    "        idx = 4\n",
    "    elif s == 'Unknown':\n",
    "        idx = 5\n",
    "    df_studies.loc[df_studies['overall_status'] == s,'status_detail'] = group_labels[idx]\n",
    "\n",
    "# Create a code for each study topic\n",
    "df_studies['study_topic_code'] = [''] * len(df_studies['study_topic'])\n",
    "\n",
    "# Within each group, label the COVID-related ones\n",
    "df_studies.loc[df_studies.study_topic == 'COVID-related', 'study_topic_code'] = 1\n",
    "df_studies.loc[df_studies.study_topic == 'COVID_secondary', 'study_topic_code'] = 1\n",
    "df_studies.loc[df_studies.study_topic == 'Unrelated', 'study_topic_code'] = 0\n",
    "df_studies.loc[df_studies.study_topic == 'Unrelated, Respiratory', 'study_topic_code'] = 0\n",
    "\n",
    "# Sort within each group\n",
    "grouped_status = df_studies.groupby(['status_detail','overall_status','study_topic_code'])['study_topic_code'].agg(len)\\\n",
    "    .unstack()\n",
    "\n",
    "grouped_status"
   ],
   "metadata": {
    "collapsed": false,
    "pycharm": {
     "name": "#%%\n"
    }
   }
  },
  {
   "cell_type": "code",
   "execution_count": null,
   "outputs": [],
   "source": [
    "# Plot stacked horizontal bar chart\n",
    "ax = grouped_status.plot(kind='barh', stacked=True,\n",
    "                              ylabel='Study status',\n",
    "                              title='The status of COVID-related studies',\n",
    "                              legend=False)\n",
    "\n",
    "# Set labels\n",
    "xlabel = grouped_status.index.get_level_values(1).to_list()\n",
    "_ = ax.set_yticklabels(xlabel)\n",
    "\n",
    "\n",
    "# Colour each group, highlighting COVID-related ones with more saturation\n"
   ],
   "metadata": {
    "collapsed": false,
    "pycharm": {
     "name": "#%%\n"
    }
   }
  },
  {
   "cell_type": "markdown",
   "source": [
    "#### Countries of study\n",
    "In which countries do studies take place? Which of those are COVID-related ones?"
   ],
   "metadata": {
    "collapsed": false,
    "pycharm": {
     "name": "#%% md\n"
    }
   }
  },
  {
   "cell_type": "code",
   "execution_count": 17,
   "outputs": [
    {
     "data": {
      "text/plain": "UNITED STATES     1085\nFRANCE             605\nUNITED KINGDOM     218\nITALY              202\nCANADA             177\n                  ... \nALGERIA              1\nPANAMA               1\nGAMBIA               1\nSENEGAL              1\nGIBRALTAR            1\nName: location_countries, Length: 112, dtype: int64"
     },
     "execution_count": 17,
     "metadata": {},
     "output_type": "execute_result"
    }
   ],
   "source": [
    "# Horizontal bar graph\n",
    "# TODO: LEVEL-UP -- draw a world map and graph dots on top of them\n",
    "\n",
    "# list(df_studies.columns)\n",
    "df_studies['location_countries'].value_counts()"
   ],
   "metadata": {
    "collapsed": false,
    "pycharm": {
     "name": "#%%\n"
    }
   }
  },
  {
   "cell_type": "code",
   "execution_count": 18,
   "outputs": [
    {
     "data": {
      "text/plain": "<Figure size 640x480 with 1 Axes>",
      "image/png": "[encoded data removed]"
     },
     "metadata": {},
     "output_type": "display_data"
    }
   ],
   "source": [
    "countries = list(df_studies['location_countries'].value_counts().index)\n",
    "country_counts = list(df_studies['location_countries'].value_counts().values)\n",
    "\n",
    "mybarh(countries[:10],country_counts[:10],\n",
    "       title='Top 10 countries conducting the most clinical trials')"
   ],
   "metadata": {
    "collapsed": false,
    "pycharm": {
     "name": "#%%\n"
    }
   }
  },
  {
   "cell_type": "markdown",
   "source": [
    "#### Study type: Popular study types depending on condition being studied\n",
    "What are the study types used? Do COVID-related studies differ from the rest?\n",
    "\n",
    "#### Enrollment sizes (per study type and per condition)\n",
    "What's the distribution of enrollment sizes across studies?\n",
    "\n",
    "#### Common measure of outcome being used for each study type?\n",
    "What methods do each study types use to measure outcome?\n",
    "\n",
    "#### Study results?\n",
    "From CSV file, what results can we find?\n",
    "\n",
    "<br>\n",
    "\n",
    "### 2. A deeper dive into COVID-related studies only\n",
    "\n",
    "#### Observational studies\n",
    "- length of each study (from CSV)\n",
    "- how is the outcome measured?\n",
    "\n",
    "#### Interventional studies\n",
    "- length of each study (also from CSV)\n",
    "- what were some types of interventions used?\n",
    "- in drug studies, what were the top 5 most popular ones studied?\n",
    "\n",
    "#### Any meaningful conclusions?\n",
    "- In the small percentage of studies that actually have results posted, were any of them focused on COVID?\n",
    "- If so, can we draw any meaningful conclusions?"
   ],
   "metadata": {
    "collapsed": false,
    "pycharm": {
     "name": "#%% md\n"
    }
   }
  }
 ],
 "metadata": {
  "kernelspec": {
   "display_name": "Python 3",
   "language": "python",
   "name": "python3"
  },
  "language_info": {
   "codemirror_mode": {
    "name": "ipython",
    "version": 2
   },
   "file_extension": ".py",
   "mimetype": "text/x-python",
   "name": "python",
   "nbconvert_exporter": "python",
   "pygments_lexer": "ipython2",
   "version": "2.7.6"
  }
 },
 "nbformat": 4,
 "nbformat_minor": 0
}