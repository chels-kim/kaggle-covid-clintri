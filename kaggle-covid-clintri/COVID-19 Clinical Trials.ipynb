{
 "cells": [
  {
   "cell_type": "markdown",
   "metadata": {
    "collapsed": true,
    "pycharm": {
     "name": "#%% md\n"
    }
   },
   "source": [
    "# COVID-19 Clinical Trials dataset: an EDA\n",
    "\n",
    "### EDA Plan of Attack\n",
    "1. **High-level understanding of data**\n",
    "    - First, I will take down notes about the data from the Kaggle descriptions\n",
    "    - I might also check out the associated notebook to get a better sense\n",
    "2. **Brainstorm some questions** I would like to ask and analyze the data for.\n",
    "    - I will probably also get inspiration from the aforementioned notebook\n",
    "3. **Learn as I go!** Specifically, my goals for this EDA are:\n",
    "    - get more comfortable working with the basic packages like Numpy and Pandas\n",
    "    - get used to graphing using matplotlib library since that's the most common one\n",
    "\n",
    "### Overall timeline goal\n",
    "- Today is February 25, 2021; I would like to finish this project in maximum 1 week, so March 4th at the latest."
   ]
  },
  {
   "cell_type": "markdown",
   "source": [
    "### Some quick notes on the data\n",
    "\n",
    "- Maintained by the NIH, the database \"ClinicalTrials.gov\" contains information about all privately and publicly funded clinical studies around the world.\n",
    "- The particular dataset to be used consists of clinical trials related to COVID-19 studies specifically.\n",
    "    - XML files: each correspond to one study; filename: `NCT#####` where the `#`'s indicate unique identifier of study.\n",
    "    - 1 CSV file: not as detailed as above but provides a summary."
   ],
   "metadata": {
    "collapsed": false,
    "pycharm": {
     "name": "#%% md\n"
    }
   }
  },
  {
   "cell_type": "markdown",
   "source": [
    "<br>\n",
    "\n",
    "## Higher-level analysis of data"
   ],
   "metadata": {
    "collapsed": false
   }
  },
  {
   "cell_type": "code",
   "execution_count": 3,
   "outputs": [
    {
     "name": "stdout",
     "output_type": "stream",
     "text": [
      "Total clinical trials: 5020\n"
     ]
    }
   ],
   "source": [
    "## Importing relevant modules\n",
    "\n",
    "# libraries\n",
    "import pandas as pd\n",
    "import numpy as np\n",
    "import os\n",
    "from xml.etree import ElementTree\n",
    "\n",
    "# data viz\n",
    "import matplotlib.pyplot as plt\n",
    "import seaborn as sns\n",
    "\n",
    "# Read file data\n",
    "path = '../kaggle-covid-clintri/covid19-clinical-trials-dataset/'\n",
    "xml_path = path + 'COVID-19 CLinical trials studies/COVID-19 CLinical trials studies/'\n",
    "list_of_files = os.listdir(xml_path)\n",
    "print('Total clinical trials:', len(list_of_files))"
   ],
   "metadata": {
    "collapsed": false,
    "pycharm": {
     "name": "#%%\n"
    }
   }
  },
  {
   "cell_type": "code",
   "execution_count": 193,
   "outputs": [],
   "source": [
    "# .xml to pandas dataframe;\n",
    "# for most of this part I will be copying the referencing the original notebook's code because I'm not focused on learning how to do this for now.\n",
    "\n",
    "df_studies = pd.DataFrame()\n",
    "list_keywords = []\n",
    "\n",
    "for file in list_of_files:\n",
    "    file_pathname = xml_path + file\n",
    "\n",
    "    tree = ElementTree.parse(file_pathname)\n",
    "    root = tree.getroot()\n",
    "\n",
    "    # create dictionary to be turned into a df\n",
    "    trial = {}\n",
    "\n",
    "    trial['id'] = root.find('id_info').find('nct_id').text\n",
    "    trial['overall_status'] = root.find('overall_status').text\n",
    "    trial['study_type'] = root.find('study_type').text\n",
    "\n",
    "    if root.find('start_date') != None:\n",
    "        trial['start_date'] = root.find('start_date').text\n",
    "    else:\n",
    "        trial['start_date'] = ''\n",
    "\n",
    "    if root.find('enrollment') != None:\n",
    "        trial['enrollment'] = root.find('enrollment').text\n",
    "    else:\n",
    "        trial['enrollment'] = ''\n",
    "\n",
    "    # modified below to output all conditions being studied, not just the first condition listed\n",
    "    l_cond = []\n",
    "    for cond in root.findall('condition'):\n",
    "        entry = cond.text.upper().\\\n",
    "            replace('CORONAVIRUS INFECTIONS','CORONAVIRUS INFECTION').\\\n",
    "            replace('CORONA VIRUS INFECTION','CORONAVIRUS INFECTION').\\\n",
    "            replace('SARS-COV-2','SARS-CoV2').\\\n",
    "            replace('SARS-COV 2','SARS-CoV2').\\\n",
    "            replace('SARS-COV2','SARS-CoV2').\\\n",
    "            replace('COVID-19','COVID').\\\n",
    "            replace('COVID19','COVID').\\\n",
    "            replace('COVID 19','COVID').\\\n",
    "        l_cond.append(entry)\n",
    "    trial['condition'] = '; '.join(l_cond)\n",
    "\n",
    "    if root.find('location_countries') != None:\n",
    "        trial['location_countries'] = root.find('location_countries').find('country').text.upper()\n",
    "    else:\n",
    "        trial['location_countries'] = ''\n",
    "\n",
    "    # also modified below to find all interventions used\n",
    "    l_inter = []\n",
    "    if root.findall('intervention') != None:\n",
    "        for inter in root.findall('intervention'):\n",
    "            inter_entry = inter.find('intervention_name').text.upper()\n",
    "            l_inter.append(inter_entry)\n",
    "        trial['intervention'] = '; '.join(l_inter)\n",
    "    else:\n",
    "        trial['intervention'] = ''\n",
    "\n",
    "    for entry in root.findall('keyword'):\n",
    "        list_keywords.append(entry.text)\n",
    "\n",
    "    if root.find('official_title') == None:\n",
    "        trial['title'] = root.find('brief_title').text\n",
    "    else:\n",
    "        trial['title'] = root.find('official_title').text\n",
    "\n",
    "    date_string = root.find('required_header').find('download_date').text\n",
    "    trial['date_processed'] = date_string.replace('ClinicalTrials.gov processed this data on ', '')\n",
    "\n",
    "    trial['sponsors'] = root.find('sponsors').find('lead_sponsor').find('agency').text\n",
    "\n",
    "    df_studies = df_studies.append(trial, ignore_index=True)\n",
    "\n",
    "# save as a csv file\n",
    "df_studies.to_csv('../kaggle-covid-clintri/studies_summarized.csv')"
   ],
   "metadata": {
    "collapsed": false,
    "pycharm": {
     "name": "#%%\n"
    }
   }
  },
  {
   "cell_type": "code",
   "execution_count": 156,
   "outputs": [],
   "source": [
    "# If already saved, load the csv file\n",
    "df_studies = pd.read_csv('../kaggle-covid-clintri/studies_summarized.csv')"
   ],
   "metadata": {
    "collapsed": false,
    "pycharm": {
     "name": "#%%\n"
    }
   }
  },
  {
   "cell_type": "code",
   "execution_count": 194,
   "outputs": [
    {
     "data": {
      "text/plain": "                                           condition     date_processed  \\\n0   SOLID TUMOR, ADULT; HEALTHY DONORS; COVID DONORS  February 08, 2021   \n1  HAIRY CELL LEUKEMIA (HCL); CHRONIC LYMPHOCYTIC...  February 08, 2021   \n2                                      BREAST CANCER  February 08, 2021   \n3          ANOGENITAL HERPES; COVID; HERPES LABIALIS  February 08, 2021   \n4                                    HIV-1 INFECTION  February 08, 2021   \n\n  enrollment           id                                       intervention  \\\n0       1000  NCT00571389                                                      \n1       1263  NCT01087333                                                      \n2        935  NCT01134172  SURVEY WEB-BASED OR TELEPHONE INTERVIEW; SURVE...   \n3       1000  NCT01306084                                                      \n4        334  NCT01435018  ETOPOSIDE (ET); BLEOMYCIN AND VINCRISTINE (BV)...   \n\n  location_countries          overall_status  \\\n0      UNITED STATES              Recruiting   \n1      UNITED STATES              Recruiting   \n2      UNITED STATES  Active, not recruiting   \n3      UNITED STATES              Recruiting   \n4             BRAZIL               Completed   \n\n                                            sponsors       start_date  \\\n0                                    BioCytics, Inc.    November 2007   \n1                    National Cancer Institute (NCI)    March 2, 2010   \n2             Memorial Sloan Kettering Cancer Center         May 2010   \n3  National Institute of Allergy and Infectious D...   March 15, 2011   \n4                         AIDS Clinical Trials Group  October 1, 2013   \n\n       study_type                                              title  \n0   Observational  A Study to Facilitate Development of an Ex-Viv...  \n1   Observational  Collection of Human Samples to Study Hairy Cel...  \n2   Observational  Breast Cancer and the Workforce: Ethnic Differ...  \n3   Observational  Viral Infections in Healthy and Immunocompromi...  \n4  Interventional  A Randomized Comparison of Three Regimens of C...  ",
      "text/html": "<div>\n<style scoped>\n    .dataframe tbody tr th:only-of-type {\n        vertical-align: middle;\n    }\n\n    .dataframe tbody tr th {\n        vertical-align: top;\n    }\n\n    .dataframe thead th {\n        text-align: right;\n    }\n</style>\n<table border=\"1\" class=\"dataframe\">\n  <thead>\n    <tr style=\"text-align: right;\">\n      <th></th>\n      <th>condition</th>\n      <th>date_processed</th>\n      <th>enrollment</th>\n      <th>id</th>\n      <th>intervention</th>\n      <th>location_countries</th>\n      <th>overall_status</th>\n      <th>sponsors</th>\n      <th>start_date</th>\n      <th>study_type</th>\n      <th>title</th>\n    </tr>\n  </thead>\n  <tbody>\n    <tr>\n      <th>0</th>\n      <td>SOLID TUMOR, ADULT; HEALTHY DONORS; COVID DONORS</td>\n      <td>February 08, 2021</td>\n      <td>1000</td>\n      <td>NCT00571389</td>\n      <td></td>\n      <td>UNITED STATES</td>\n      <td>Recruiting</td>\n      <td>BioCytics, Inc.</td>\n      <td>November 2007</td>\n      <td>Observational</td>\n      <td>A Study to Facilitate Development of an Ex-Viv...</td>\n    </tr>\n    <tr>\n      <th>1</th>\n      <td>HAIRY CELL LEUKEMIA (HCL); CHRONIC LYMPHOCYTIC...</td>\n      <td>February 08, 2021</td>\n      <td>1263</td>\n      <td>NCT01087333</td>\n      <td></td>\n      <td>UNITED STATES</td>\n      <td>Recruiting</td>\n      <td>National Cancer Institute (NCI)</td>\n      <td>March 2, 2010</td>\n      <td>Observational</td>\n      <td>Collection of Human Samples to Study Hairy Cel...</td>\n    </tr>\n    <tr>\n      <th>2</th>\n      <td>BREAST CANCER</td>\n      <td>February 08, 2021</td>\n      <td>935</td>\n      <td>NCT01134172</td>\n      <td>SURVEY WEB-BASED OR TELEPHONE INTERVIEW; SURVE...</td>\n      <td>UNITED STATES</td>\n      <td>Active, not recruiting</td>\n      <td>Memorial Sloan Kettering Cancer Center</td>\n      <td>May 2010</td>\n      <td>Observational</td>\n      <td>Breast Cancer and the Workforce: Ethnic Differ...</td>\n    </tr>\n    <tr>\n      <th>3</th>\n      <td>ANOGENITAL HERPES; COVID; HERPES LABIALIS</td>\n      <td>February 08, 2021</td>\n      <td>1000</td>\n      <td>NCT01306084</td>\n      <td></td>\n      <td>UNITED STATES</td>\n      <td>Recruiting</td>\n      <td>National Institute of Allergy and Infectious D...</td>\n      <td>March 15, 2011</td>\n      <td>Observational</td>\n      <td>Viral Infections in Healthy and Immunocompromi...</td>\n    </tr>\n    <tr>\n      <th>4</th>\n      <td>HIV-1 INFECTION</td>\n      <td>February 08, 2021</td>\n      <td>334</td>\n      <td>NCT01435018</td>\n      <td>ETOPOSIDE (ET); BLEOMYCIN AND VINCRISTINE (BV)...</td>\n      <td>BRAZIL</td>\n      <td>Completed</td>\n      <td>AIDS Clinical Trials Group</td>\n      <td>October 1, 2013</td>\n      <td>Interventional</td>\n      <td>A Randomized Comparison of Three Regimens of C...</td>\n    </tr>\n  </tbody>\n</table>\n</div>"
     },
     "execution_count": 194,
     "metadata": {},
     "output_type": "execute_result"
    }
   ],
   "source": [
    "# print the first few rows of studies dataframe and describe it\n",
    "df_studies.head()"
   ],
   "metadata": {
    "collapsed": false,
    "pycharm": {
     "name": "#%%\n"
    }
   }
  },
  {
   "cell_type": "code",
   "execution_count": 195,
   "outputs": [
    {
     "data": {
      "text/plain": "       condition     date_processed enrollment           id intervention  \\\ncount       5020               5020       5020         5020         5020   \nunique      2464                  1        838         5020         3622   \ntop        COVID  February 08, 2021        100  NCT04558476                \nfreq        1448               5020        309            1          761   \n\n       location_countries overall_status  \\\ncount                5020           5020   \nunique                113             11   \ntop         UNITED STATES     Recruiting   \nfreq                 1085           2505   \n\n                                       sponsors   start_date      study_type  \\\ncount                                      5020         5020            5020   \nunique                                     2194          560               4   \ntop     Assistance Publique - Hôpitaux de Paris  May 1, 2020  Interventional   \nfreq                                         91          107            2892   \n\n                                                    title  \ncount                                                5020  \nunique                                               5005  \ntop     COVID-19 Outpatient Pragmatic Platform Study (...  \nfreq                                                    3  ",
      "text/html": "<div>\n<style scoped>\n    .dataframe tbody tr th:only-of-type {\n        vertical-align: middle;\n    }\n\n    .dataframe tbody tr th {\n        vertical-align: top;\n    }\n\n    .dataframe thead th {\n        text-align: right;\n    }\n</style>\n<table border=\"1\" class=\"dataframe\">\n  <thead>\n    <tr style=\"text-align: right;\">\n      <th></th>\n      <th>condition</th>\n      <th>date_processed</th>\n      <th>enrollment</th>\n      <th>id</th>\n      <th>intervention</th>\n      <th>location_countries</th>\n      <th>overall_status</th>\n      <th>sponsors</th>\n      <th>start_date</th>\n      <th>study_type</th>\n      <th>title</th>\n    </tr>\n  </thead>\n  <tbody>\n    <tr>\n      <th>count</th>\n      <td>5020</td>\n      <td>5020</td>\n      <td>5020</td>\n      <td>5020</td>\n      <td>5020</td>\n      <td>5020</td>\n      <td>5020</td>\n      <td>5020</td>\n      <td>5020</td>\n      <td>5020</td>\n      <td>5020</td>\n    </tr>\n    <tr>\n      <th>unique</th>\n      <td>2464</td>\n      <td>1</td>\n      <td>838</td>\n      <td>5020</td>\n      <td>3622</td>\n      <td>113</td>\n      <td>11</td>\n      <td>2194</td>\n      <td>560</td>\n      <td>4</td>\n      <td>5005</td>\n    </tr>\n    <tr>\n      <th>top</th>\n      <td>COVID</td>\n      <td>February 08, 2021</td>\n      <td>100</td>\n      <td>NCT04558476</td>\n      <td></td>\n      <td>UNITED STATES</td>\n      <td>Recruiting</td>\n      <td>Assistance Publique - Hôpitaux de Paris</td>\n      <td>May 1, 2020</td>\n      <td>Interventional</td>\n      <td>COVID-19 Outpatient Pragmatic Platform Study (...</td>\n    </tr>\n    <tr>\n      <th>freq</th>\n      <td>1448</td>\n      <td>5020</td>\n      <td>309</td>\n      <td>1</td>\n      <td>761</td>\n      <td>1085</td>\n      <td>2505</td>\n      <td>91</td>\n      <td>107</td>\n      <td>2892</td>\n      <td>3</td>\n    </tr>\n  </tbody>\n</table>\n</div>"
     },
     "execution_count": 195,
     "metadata": {},
     "output_type": "execute_result"
    }
   ],
   "source": [
    "df_studies.describe()"
   ],
   "metadata": {
    "collapsed": false,
    "pycharm": {
     "name": "#%%\n"
    }
   }
  },
  {
   "cell_type": "code",
   "execution_count": 178,
   "outputs": [
    {
     "data": {
      "text/plain": "   Rank   NCT Number                                              Title  \\\n0     1  NCT04595136  Study to Evaluate the Efficacy of COVID19-0001...   \n1     2  NCT04395482  Lung CT Scan Analysis of SARS-CoV2 Induced Lun...   \n2     3  NCT04416061  The Role of a Private Hospital in Hong Kong Am...   \n3     4  NCT04395924         Maternal-foetal Transmission of SARS-Cov-2   \n4     5  NCT04516954          Convalescent Plasma for COVID-19 Patients   \n\n        Acronym                   Status         Study Results  \\\n0      COVID-19       Not yet recruiting  No Results Available   \n1   TAC-COVID19               Recruiting  No Results Available   \n2      COVID-19   Active, not recruiting  No Results Available   \n3  TMF-COVID-19               Recruiting  No Results Available   \n4          CPCP  Enrolling by invitation  No Results Available   \n\n                                          Conditions  \\\n0                               SARS-CoV-2 Infection   \n1                                            covid19   \n2                                              COVID   \n3  Maternal Fetal Infection Transmission|COVID-19...   \n4                                           COVID 19   \n\n                                       Interventions  \\\n0    Drug: Drug COVID19-0001-USR|Drug: normal saline   \n1  Other: Lung CT scan analysis in COVID-19 patients   \n2          Diagnostic Test: COVID 19 Diagnostic Test   \n3  Diagnostic Test: Diagnosis of SARS-Cov2 by RT-...   \n4           Biological: Convalescent COVID 19 Plasma   \n\n                                    Outcome Measures  \\\n0  Change on viral load results from baseline aft...   \n1  A qualitative analysis of parenchymal lung dam...   \n2  Proportion of asymptomatic subjects|Proportion...   \n3  COVID-19 by positive PCR in cord blood and / o...   \n4  Evaluate the safety|Change in requirement for ...   \n\n                               Sponsor/Collaborators  ...         Other IDs  \\\n0                         United Medical Specialties  ...  COVID19-0001-USR   \n1                       University of Milano Bicocca  ...       TAC-COVID19   \n2                    Hong Kong Sanatorium & Hospital  ...        RC-2020-08   \n3  Centre Hospitalier Régional d'Orléans|Centre d...  ...      CHRO-2020-10   \n4  Vinmec Research Institute of Stem Cell and Gen...  ...       ISC.20.11.1   \n\n         Start Date Primary Completion Date    Completion Date  \\\n0  November 2, 2020       December 15, 2020   January 29, 2021   \n1       May 7, 2020           June 15, 2021      June 15, 2021   \n2      May 25, 2020           July 31, 2020    August 31, 2020   \n3       May 5, 2020                May 2021           May 2021   \n4    August 1, 2020       November 30, 2020  December 30, 2020   \n\n       First Posted Results First Posted Last Update Posted  \\\n0  October 20, 2020                  NaN   October 20, 2020   \n1      May 20, 2020                  NaN   November 9, 2020   \n2      June 4, 2020                  NaN       June 4, 2020   \n3      May 20, 2020                  NaN       June 4, 2020   \n4   August 18, 2020                  NaN    August 20, 2020   \n\n                                           Locations Study Documents  \\\n0       Cimedical, Barranquilla, Atlantico, Colombia             NaN   \n1  Ospedale Papa Giovanni XXIII, Bergamo, Italy|P...             NaN   \n2  Hong Kong Sanatorium & Hospital, Hong Kong, Ho...             NaN   \n3                       CHR Orléans, Orléans, France             NaN   \n4  Vinmec Research Institute of Stem cell and Gen...             NaN   \n\n                                           URL  \n0  https://ClinicalTrials.gov/show/NCT04595136  \n1  https://ClinicalTrials.gov/show/NCT04395482  \n2  https://ClinicalTrials.gov/show/NCT04416061  \n3  https://ClinicalTrials.gov/show/NCT04395924  \n4  https://ClinicalTrials.gov/show/NCT04516954  \n\n[5 rows x 27 columns]",
      "text/html": "<div>\n<style scoped>\n    .dataframe tbody tr th:only-of-type {\n        vertical-align: middle;\n    }\n\n    .dataframe tbody tr th {\n        vertical-align: top;\n    }\n\n    .dataframe thead th {\n        text-align: right;\n    }\n</style>\n<table border=\"1\" class=\"dataframe\">\n  <thead>\n    <tr style=\"text-align: right;\">\n      <th></th>\n      <th>Rank</th>\n      <th>NCT Number</th>\n      <th>Title</th>\n      <th>Acronym</th>\n      <th>Status</th>\n      <th>Study Results</th>\n      <th>Conditions</th>\n      <th>Interventions</th>\n      <th>Outcome Measures</th>\n      <th>Sponsor/Collaborators</th>\n      <th>...</th>\n      <th>Other IDs</th>\n      <th>Start Date</th>\n      <th>Primary Completion Date</th>\n      <th>Completion Date</th>\n      <th>First Posted</th>\n      <th>Results First Posted</th>\n      <th>Last Update Posted</th>\n      <th>Locations</th>\n      <th>Study Documents</th>\n      <th>URL</th>\n    </tr>\n  </thead>\n  <tbody>\n    <tr>\n      <th>0</th>\n      <td>1</td>\n      <td>NCT04595136</td>\n      <td>Study to Evaluate the Efficacy of COVID19-0001...</td>\n      <td>COVID-19</td>\n      <td>Not yet recruiting</td>\n      <td>No Results Available</td>\n      <td>SARS-CoV-2 Infection</td>\n      <td>Drug: Drug COVID19-0001-USR|Drug: normal saline</td>\n      <td>Change on viral load results from baseline aft...</td>\n      <td>United Medical Specialties</td>\n      <td>...</td>\n      <td>COVID19-0001-USR</td>\n      <td>November 2, 2020</td>\n      <td>December 15, 2020</td>\n      <td>January 29, 2021</td>\n      <td>October 20, 2020</td>\n      <td>NaN</td>\n      <td>October 20, 2020</td>\n      <td>Cimedical, Barranquilla, Atlantico, Colombia</td>\n      <td>NaN</td>\n      <td>https://ClinicalTrials.gov/show/NCT04595136</td>\n    </tr>\n    <tr>\n      <th>1</th>\n      <td>2</td>\n      <td>NCT04395482</td>\n      <td>Lung CT Scan Analysis of SARS-CoV2 Induced Lun...</td>\n      <td>TAC-COVID19</td>\n      <td>Recruiting</td>\n      <td>No Results Available</td>\n      <td>covid19</td>\n      <td>Other: Lung CT scan analysis in COVID-19 patients</td>\n      <td>A qualitative analysis of parenchymal lung dam...</td>\n      <td>University of Milano Bicocca</td>\n      <td>...</td>\n      <td>TAC-COVID19</td>\n      <td>May 7, 2020</td>\n      <td>June 15, 2021</td>\n      <td>June 15, 2021</td>\n      <td>May 20, 2020</td>\n      <td>NaN</td>\n      <td>November 9, 2020</td>\n      <td>Ospedale Papa Giovanni XXIII, Bergamo, Italy|P...</td>\n      <td>NaN</td>\n      <td>https://ClinicalTrials.gov/show/NCT04395482</td>\n    </tr>\n    <tr>\n      <th>2</th>\n      <td>3</td>\n      <td>NCT04416061</td>\n      <td>The Role of a Private Hospital in Hong Kong Am...</td>\n      <td>COVID-19</td>\n      <td>Active, not recruiting</td>\n      <td>No Results Available</td>\n      <td>COVID</td>\n      <td>Diagnostic Test: COVID 19 Diagnostic Test</td>\n      <td>Proportion of asymptomatic subjects|Proportion...</td>\n      <td>Hong Kong Sanatorium &amp; Hospital</td>\n      <td>...</td>\n      <td>RC-2020-08</td>\n      <td>May 25, 2020</td>\n      <td>July 31, 2020</td>\n      <td>August 31, 2020</td>\n      <td>June 4, 2020</td>\n      <td>NaN</td>\n      <td>June 4, 2020</td>\n      <td>Hong Kong Sanatorium &amp; Hospital, Hong Kong, Ho...</td>\n      <td>NaN</td>\n      <td>https://ClinicalTrials.gov/show/NCT04416061</td>\n    </tr>\n    <tr>\n      <th>3</th>\n      <td>4</td>\n      <td>NCT04395924</td>\n      <td>Maternal-foetal Transmission of SARS-Cov-2</td>\n      <td>TMF-COVID-19</td>\n      <td>Recruiting</td>\n      <td>No Results Available</td>\n      <td>Maternal Fetal Infection Transmission|COVID-19...</td>\n      <td>Diagnostic Test: Diagnosis of SARS-Cov2 by RT-...</td>\n      <td>COVID-19 by positive PCR in cord blood and / o...</td>\n      <td>Centre Hospitalier Régional d'Orléans|Centre d...</td>\n      <td>...</td>\n      <td>CHRO-2020-10</td>\n      <td>May 5, 2020</td>\n      <td>May 2021</td>\n      <td>May 2021</td>\n      <td>May 20, 2020</td>\n      <td>NaN</td>\n      <td>June 4, 2020</td>\n      <td>CHR Orléans, Orléans, France</td>\n      <td>NaN</td>\n      <td>https://ClinicalTrials.gov/show/NCT04395924</td>\n    </tr>\n    <tr>\n      <th>4</th>\n      <td>5</td>\n      <td>NCT04516954</td>\n      <td>Convalescent Plasma for COVID-19 Patients</td>\n      <td>CPCP</td>\n      <td>Enrolling by invitation</td>\n      <td>No Results Available</td>\n      <td>COVID 19</td>\n      <td>Biological: Convalescent COVID 19 Plasma</td>\n      <td>Evaluate the safety|Change in requirement for ...</td>\n      <td>Vinmec Research Institute of Stem Cell and Gen...</td>\n      <td>...</td>\n      <td>ISC.20.11.1</td>\n      <td>August 1, 2020</td>\n      <td>November 30, 2020</td>\n      <td>December 30, 2020</td>\n      <td>August 18, 2020</td>\n      <td>NaN</td>\n      <td>August 20, 2020</td>\n      <td>Vinmec Research Institute of Stem cell and Gen...</td>\n      <td>NaN</td>\n      <td>https://ClinicalTrials.gov/show/NCT04516954</td>\n    </tr>\n  </tbody>\n</table>\n<p>5 rows × 27 columns</p>\n</div>"
     },
     "execution_count": 178,
     "metadata": {},
     "output_type": "execute_result"
    }
   ],
   "source": [
    "# Load the CSV file as well\n",
    "df_studies_CSV = pd.read_csv( path + 'COVID clinical trials.csv')\n",
    "df_studies_CSV.head()"
   ],
   "metadata": {
    "collapsed": false,
    "pycharm": {
     "name": "#%%\n"
    }
   }
  },
  {
   "cell_type": "code",
   "execution_count": 179,
   "outputs": [
    {
     "name": "stdout",
     "output_type": "stream",
     "text": [
      "['condition', 'date_processed', 'enrollment', 'id', 'intervention', 'location_countries', 'overall_status', 'sponsors', 'start_date', 'study_type', 'title']\n",
      "['Rank', 'NCT Number', 'Title', 'Acronym', 'Status', 'Study Results', 'Conditions', 'Interventions', 'Outcome Measures', 'Sponsor/Collaborators', 'Gender', 'Age', 'Phases', 'Enrollment', 'Funded Bys', 'Study Type', 'Study Designs', 'Other IDs', 'Start Date', 'Primary Completion Date', 'Completion Date', 'First Posted', 'Results First Posted', 'Last Update Posted', 'Locations', 'Study Documents', 'URL']\n"
     ]
    }
   ],
   "source": [
    "# What's in the CSV that's not listed in the XML data? Or at least lost in translation to dfs?\n",
    "print(list(df_studies.columns))\n",
    "print(list(df_studies_CSV.columns))"
   ],
   "metadata": {
    "collapsed": false,
    "pycharm": {
     "name": "#%%\n"
    }
   }
  },
  {
   "cell_type": "markdown",
   "source": [
    "Because we extracted only a few important categories of information from the .xml files, the `df_studies` dataframe is now\n",
    "more condensed than the .csv file's summary in `df_studies_CSV`."
   ],
   "metadata": {
    "collapsed": false,
    "pycharm": {
     "name": "#%% md\n"
    }
   }
  },
  {
   "cell_type": "markdown",
   "source": [
    "<br>\n",
    "\n",
    "## Brainstorming questions I'd like to ask\n",
    "\n",
    "To start the EDA, let's look at a few of the columns in `df_studies` (i.e. the one that's been summarized better) in\n",
    "more detail!"
   ],
   "metadata": {
    "collapsed": false,
    "pycharm": {
     "name": "#%% md\n"
    }
   }
  },
  {
   "cell_type": "code",
   "execution_count": 122,
   "outputs": [
    {
     "name": "stdout",
     "output_type": "stream",
     "text": [
      "['condition', 'date_processed', 'enrollment', 'id', 'intervention', 'location_countries', 'overall_status', 'sponsors', 'start_date', 'study_type', 'title']\n"
     ]
    }
   ],
   "source": [
    "list_dfColumns = list(df_studies.columns)\n",
    "print(list_dfColumns)"
   ],
   "metadata": {
    "collapsed": false,
    "pycharm": {
     "name": "#%%\n"
    }
   }
  },
  {
   "cell_type": "markdown",
   "source": [
    "Some questions I would like to ask throughout this analysis:\n",
    "\n",
    "1. Regarding the entire dataset:\n",
    "    - What are the conditions (COVID- and non-COVID-related) that are being studied?\n",
    "    - What status is each study in?\n",
    "    - In which countries do studies take place? Which of those are COVID-related ones?\n",
    "    - What are the study types used? Do COVID-related studies differ from the rest?\n",
    "        - What's the distribution of enrollment sizes for study types?\n",
    "    - From the CSV file column description in original dataset post, there is a very small number of studies with results\n",
    "    available (1%). What percentage is this of the actual studies that have already been completed?\n",
    "<br>\n",
    "\n",
    "2. In COVID-related studies:\n",
    "    - Study titles:\n",
    "        - Why are some titles repeated?\n",
    "        - What are the common keywords in the title?\n",
    "            - What can we learn from those titles?\n",
    "    - Specific to **observational studies**:\n",
    "        - length of each study (from CSV)\n",
    "        - how is the outcome measured?\n",
    "    - Specific to **interventional studies**:\n",
    "        - length of each study (also from CSV)\n",
    "        - what were some types of interventions used?\n",
    "        - in drug studies, what were the top 5 most popular ones studied?\n",
    "    - In the small percentage of studies that actually have results posted, were any of them focused on COVID?\n",
    "        - If so, can we draw any meaningful conclusions?"
   ],
   "metadata": {
    "collapsed": false,
    "pycharm": {
     "name": "#%% md\n"
    }
   }
  },
  {
   "cell_type": "markdown",
   "source": [
    "<br>\n",
    "\n",
    "## Exploratory analysis\n",
    "\n",
    "### Comparison of COVID- and non-COVID-related studies\n",
    "\n",
    "#### Conditions being studied\n",
    "First, I ask what conditions (COVID- and non-COVID-related) are being studied."
   ],
   "metadata": {
    "collapsed": false,
    "pycharm": {
     "name": "#%% md\n"
    }
   }
  },
  {
   "cell_type": "code",
   "execution_count": 180,
   "outputs": [
    {
     "data": {
      "text/plain": "2464"
     },
     "execution_count": 180,
     "metadata": {},
     "output_type": "execute_result"
    }
   ],
   "source": [
    "# Use a pie chart: must count incidences of each type\n",
    "\n",
    "condition_counts = df_studies.condition.value_counts()\n",
    "conditions_list = list(condition_counts.index)\n",
    "len(conditions_list)"
   ],
   "metadata": {
    "collapsed": false,
    "pycharm": {
     "name": "#%%\n"
    }
   }
  },
  {
   "cell_type": "code",
   "execution_count": 239,
   "outputs": [
    {
     "data": {
      "text/plain": "       condition    study_topic\ncount       5020           5020\nunique      2464              3\ntop        COVID  COVID-related\nfreq        1448           3935",
      "text/html": "<div>\n<style scoped>\n    .dataframe tbody tr th:only-of-type {\n        vertical-align: middle;\n    }\n\n    .dataframe tbody tr th {\n        vertical-align: top;\n    }\n\n    .dataframe thead th {\n        text-align: right;\n    }\n</style>\n<table border=\"1\" class=\"dataframe\">\n  <thead>\n    <tr style=\"text-align: right;\">\n      <th></th>\n      <th>condition</th>\n      <th>study_topic</th>\n    </tr>\n  </thead>\n  <tbody>\n    <tr>\n      <th>count</th>\n      <td>5020</td>\n      <td>5020</td>\n    </tr>\n    <tr>\n      <th>unique</th>\n      <td>2464</td>\n      <td>3</td>\n    </tr>\n    <tr>\n      <th>top</th>\n      <td>COVID</td>\n      <td>COVID-related</td>\n    </tr>\n    <tr>\n      <th>freq</th>\n      <td>1448</td>\n      <td>3935</td>\n    </tr>\n  </tbody>\n</table>\n</div>"
     },
     "execution_count": 239,
     "metadata": {},
     "output_type": "execute_result"
    }
   ],
   "source": [
    "# Define keywords to look for; though not ideal, I am choosing to manually define these keywords\n",
    "covid_keys = [\n",
    "    'covid', 'coronavirus', 'sars-cov2', '2019-ncov', 'severe acute respiratory syndrome coronavirus 2', 'ncov'\n",
    "]\n",
    "resp_keys = [\n",
    "    'severe acute respiratory syndrome', 'sars', 'respiratory', 'pneumonia', 'cold', 'flu'\n",
    "]\n",
    "\n",
    "df_studies['study_topic'] = ['']*len(df_studies.condition)\n",
    "c = 0\n",
    "\n",
    "for cond in conditions_list:\n",
    "    # from the condition chosen, parse for any of the keys string\n",
    "    if any(key in cond.lower() for key in covid_keys):\n",
    "        label = 'COVID-related'\n",
    "    elif any(key in cond.lower() for key in resp_keys):\n",
    "        label = 'Unrelated, Respiratory'\n",
    "    else:\n",
    "        label = 'Unrelated'\n",
    "    df_studies.loc[df_studies.condition == cond, 'study_topic'] = label\n",
    "\n",
    "df_studies[['condition','study_topic']].describe()"
   ],
   "metadata": {
    "collapsed": false,
    "pycharm": {
     "name": "#%%\n"
    }
   }
  },
  {
   "cell_type": "code",
   "execution_count": 241,
   "outputs": [
    {
     "name": "stdout",
     "output_type": "stream",
     "text": [
      "COVID-related             3935\n",
      "Unrelated                  926\n",
      "Unrelated, Respiratory     159\n",
      "Name: study_topic, dtype: int64\n"
     ]
    },
    {
     "data": {
      "text/plain": "<Figure size 432x288 with 1 Axes>",
      "image/png": "[encoded data removed]"
     },
     "metadata": {},
     "output_type": "display_data"
    }
   ],
   "source": [
    "# Visualize the data\n",
    "\n",
    "condition_detailed_counts = df_studies.study_topic.value_counts()\n",
    "print(condition_detailed_counts)\n",
    "\n",
    "values = condition_detailed_counts.to_numpy()\n",
    "labels = condition_detailed_counts.keys().to_numpy()\n",
    "\n",
    "def pctvalue(pct, data):\n",
    "    counts = int(pct/100 * np.sum(data))\n",
    "    return \"{:.1f}%\\n({:d} studies)\".format(pct, counts)\n",
    "\n",
    "fig, ax = plt.subplots(subplot_kw=dict(aspect='equal'))\n",
    "\n",
    "wedges, texts, autotexts = ax.pie(\n",
    "    values,\n",
    "    textprops=dict(color='w'),\n",
    "    autopct=lambda pct: pctvalue(pct, values)\n",
    ")\n",
    "\n",
    "# Hand-picked hex codes of colours\n",
    "colours_list = ['#226FB9','#FF861E','#FFBB1E']\n",
    "for idx, wedge in enumerate(wedges):\n",
    "    wedge = wedge.set_color(colours_list[idx])\n",
    "\n",
    "ax.legend(\n",
    "    wedges, labels,\n",
    "    title = \"Type of condition\",\n",
    "    loc = \"center\",\n",
    "    bbox_to_anchor=(0,-0.1, 1,-0.1)\n",
    ")\n",
    "\n",
    "ax.set_title(\"What types of conditions were studied? - An initial breakdown\")\n",
    "\n",
    "plt.show()\n",
    "\n",
    "# BONUS TODO: Make the plot interactive using plotly and enable display of all the raw condition names as listed in the datset\n"
   ],
   "metadata": {
    "collapsed": false,
    "pycharm": {
     "name": "#%%\n"
    }
   }
  },
  {
   "cell_type": "markdown",
   "source": [
    "This may have to be modified depending on whether the keywords properly picked out those that were in the dataset;\n",
    "let's see if the `Unrelated` and `Respiratory` studies contain any COVID-related studies."
   ],
   "metadata": {
    "collapsed": false,
    "pycharm": {
     "name": "#%% md\n"
    }
   }
  },
  {
   "cell_type": "code",
   "execution_count": 242,
   "outputs": [],
   "source": [
    "# Look for the COVID keywords in titles.\n",
    "titles_unrelated = df_studies[df_studies['study_topic'] == 'Unrelated']['title']\n",
    "titles_resp = df_studies[df_studies['study_topic'] == 'Respiratory']['title']\n",
    "\n",
    "for title in titles_unrelated:\n",
    "    if any(key in title.lower() for key in covid_keys):\n",
    "        df_studies.loc[df_studies['title'] == title,'study_topic'] = 'COVID_secondary'\n",
    "\n",
    "for title in titles_resp:\n",
    "    if any(key in title.lower() for key in covid_keys):\n",
    "        df_studies.loc[df_studies['title'] == title,'study_topic'] = 'COVID_secondary'"
   ],
   "metadata": {
    "collapsed": false,
    "pycharm": {
     "name": "#%%\n"
    }
   }
  },
  {
   "cell_type": "code",
   "execution_count": 245,
   "outputs": [
    {
     "name": "stdout",
     "output_type": "stream",
     "text": [
      "Collection of Human Samples to Study Hairy Cell and Other Leukemias and to Develop Recombinant Immunotoxins for Cancer Treatment \n",
      "\n",
      "Breast Cancer and the Workforce: Ethnic Differences in the Impact of Breast Cancer on Employment Status, Financial Situation, and Quality of Life (BCW) \n",
      "\n",
      "A Randomized Comparison of Three Regimens of Chemotherapy With Compatible Antiretroviral Therapy for Treatment of Advanced AIDS-KS in Resource-Limited Settings \n",
      "\n",
      "Food: A Three-Arm Randomized Controlled Study Examining Food Insecurity Interventions \n",
      "\n",
      "Vaginal Cleansing Before Cesarean Delivery to Reduce Infection: A Randomized Trial \n",
      "\n",
      "Exercise in Genetic Cardiovascular Conditions (Lifestyle and Exercise in Hypertrophic Cardiomyopathy \"LIVE-HCM\"/Lifestyle and Exercise in the Long QT Syndrome \"LIVE-LQTS\" \n",
      "\n",
      "Uveitis/Intraocular Inflammatory Disease Biobank (iBank) \n",
      "\n",
      "Reshaping the Path of Vascular Cognitive Impairment With Resistance Training \n",
      "\n",
      "Reshaping the Path of Mild Cognitive Impairment by Refining Exercise Prescription: Understanding Training Type and Exploring Mechanisms \n",
      "\n",
      "Influence of Exercise on Neurocognitive Function in Breast Cancer \n",
      "\n",
      "There are 381 titles that remain unassociated with COVID-19, with some listed above.\n"
     ]
    }
   ],
   "source": [
    "# Some titles from studies that are still not classified as being related to COVID\n",
    "titles_remaining = df_studies[df_studies['study_topic'] == ('Unrelated' or 'Respiratory')]['title']\n",
    "\n",
    "for i in range(10):\n",
    "    print(titles_remaining.iloc[i], '\\n')\n",
    "\n",
    "print('There are {} titles that remain unassociated with COVID-19, with some listed above.'.format(len(titles_remaining)))"
   ],
   "metadata": {
    "collapsed": false,
    "pycharm": {
     "name": "#%%\n"
    }
   }
  },
  {
   "cell_type": "code",
   "execution_count": 284,
   "outputs": [
    {
     "name": "stdout",
     "output_type": "stream",
     "text": [
      "COVID-related             3935\n",
      "COVID_secondary            545\n",
      "Unrelated                  381\n",
      "Unrelated, Respiratory     159\n",
      "Name: study_topic, dtype: int64\n"
     ]
    },
    {
     "data": {
      "text/plain": "<Figure size 432x288 with 1 Axes>",
      "image/png": "[encoded data removed]"
     },
     "metadata": {},
     "output_type": "display_data"
    }
   ],
   "source": [
    "# Re-visualize the above data\n",
    "\n",
    "condition_detailed_counts = df_studies.study_topic.value_counts()\n",
    "print(condition_detailed_counts)\n",
    "\n",
    "values = condition_detailed_counts.to_numpy()\n",
    "labels = condition_detailed_counts.keys().to_numpy()\n",
    "\n",
    "def getpct(data):\n",
    "    pct = data / np.sum(data) * 100\n",
    "    list_pcts = []\n",
    "    for idx in range(len(data)):\n",
    "        list_pcts.append(\"{:.1f}% ({:d} studies)\".format(pct[idx], data[idx]))\n",
    "    return list_pcts\n",
    "\n",
    "pcts = getpct(values)\n",
    "\n",
    "fig, ax = plt.subplots(subplot_kw=dict(aspect='equal'))\n",
    "wedges, texts = ax.pie(values)\n",
    "\n",
    "# Hand-picked hex codes of colours\n",
    "colours_list = ['#226FB9','#5A9DDE','#FF861E','#FFBB1E']\n",
    "for idx, wedge in enumerate(wedges):\n",
    "    wedge.set_color(colours_list[idx])\n",
    "\n",
    "# Take some labels out of box\n",
    "bbox_props = dict(boxstyle=\"square,pad=0.3\",\n",
    "                  fc=\"0.15\", ec=\"0.15\", lw=0)\n",
    "kw = dict(arrowprops=dict(arrowstyle=\"-\",connectionstyle='arc3, rad=0'),\n",
    "          bbox=bbox_props, zorder=0, va=\"center\", color='w')\n",
    "\n",
    "for i, p in enumerate(wedges):\n",
    "    ang = (p.theta2 - p.theta1)/2. + p.theta1\n",
    "    y = np.sin(np.deg2rad(ang))\n",
    "    x = np.cos(np.deg2rad(ang))\n",
    "    ax.annotate(pcts[i], xy=(x, y), xytext=(1.25, y),\n",
    "                horizontalalignment='left', **kw)\n",
    "\n",
    "ax.legend(\n",
    "    wedges, labels,\n",
    "    title = \"Type of condition\",\n",
    "    loc = \"center\",\n",
    "    bbox_to_anchor=(0,-0.1, 1,-0.1)\n",
    ")\n",
    "\n",
    "ax.set_title(\"What types of conditions were studied? - A closer look\")\n",
    "\n",
    "plt.show()"
   ],
   "metadata": {
    "collapsed": false,
    "pycharm": {
     "name": "#%%\n"
    }
   }
  },
  {
   "cell_type": "markdown",
   "source": [
    "It seems that some data whose `study_topic` was labelled as \"Unrelated\" may ctually be"
   ],
   "metadata": {
    "collapsed": false,
    "pycharm": {
     "name": "#%% md\n"
    }
   }
  },
  {
   "cell_type": "markdown",
   "source": [
    "#### Study status\n",
    "Let's visualize what status each of these clinical studies are in.\n",
    "\n",
    "#### Countries of study\n",
    "In which countries do studies take place? Which of those are COVID-related ones?\n",
    "\n",
    "#### Study type: Popular study types depending on condition being studied\n",
    "What are the study types used? Do COVID-related studies differ from the rest?\n",
    "\n",
    "#### Enrollment sizes (per study type and per condition)\n",
    "What's the distribution of enrollment sizes across studies?\n",
    "\n",
    "#### Common measure of outcome being used for each study type?\n",
    "What methods do each study types use to measure outcome?\n",
    "\n",
    "#### Study results?\n",
    "From CSV file, what results can we find?"
   ],
   "metadata": {
    "collapsed": false,
    "pycharm": {
     "name": "#%% md\n"
    }
   }
  }
 ],
 "metadata": {
  "kernelspec": {
   "display_name": "Python 3",
   "language": "python",
   "name": "python3"
  },
  "language_info": {
   "codemirror_mode": {
    "name": "ipython",
    "version": 2
   },
   "file_extension": ".py",
   "mimetype": "text/x-python",
   "name": "python",
   "nbconvert_exporter": "python",
   "pygments_lexer": "ipython2",
   "version": "2.7.6"
  }
 },
 "nbformat": 4,
 "nbformat_minor": 0
}